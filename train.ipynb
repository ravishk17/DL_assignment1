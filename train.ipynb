{
 "cells": [
  {
   "cell_type": "code",
   "execution_count": 1,
   "metadata": {
    "id": "vMEeBJLTeyKB"
   },
   "outputs": [
    {
     "name": "stdout",
     "output_type": "stream",
     "text": [
      "Requirement already satisfied: wandb in c:\\users\\ravis\\appdata\\local\\programs\\python\\python312\\lib\\site-packages (0.16.4)\n",
      "Requirement already satisfied: Click!=8.0.0,>=7.1 in c:\\users\\ravis\\appdata\\local\\programs\\python\\python312\\lib\\site-packages (from wandb) (8.1.7)\n",
      "Requirement already satisfied: GitPython!=3.1.29,>=1.0.0 in c:\\users\\ravis\\appdata\\local\\programs\\python\\python312\\lib\\site-packages (from wandb) (3.1.42)\n",
      "Requirement already satisfied: requests<3,>=2.0.0 in c:\\users\\ravis\\appdata\\local\\programs\\python\\python312\\lib\\site-packages (from wandb) (2.31.0)\n",
      "Requirement already satisfied: psutil>=5.0.0 in c:\\users\\ravis\\appdata\\local\\programs\\python\\python312\\lib\\site-packages (from wandb) (5.9.6)\n",
      "Requirement already satisfied: sentry-sdk>=1.0.0 in c:\\users\\ravis\\appdata\\local\\programs\\python\\python312\\lib\\site-packages (from wandb) (1.41.0)\n",
      "Requirement already satisfied: docker-pycreds>=0.4.0 in c:\\users\\ravis\\appdata\\local\\programs\\python\\python312\\lib\\site-packages (from wandb) (0.4.0)\n",
      "Requirement already satisfied: PyYAML in c:\\users\\ravis\\appdata\\local\\programs\\python\\python312\\lib\\site-packages (from wandb) (6.0.1)\n",
      "Requirement already satisfied: setproctitle in c:\\users\\ravis\\appdata\\local\\programs\\python\\python312\\lib\\site-packages (from wandb) (1.3.3)\n",
      "Requirement already satisfied: setuptools in c:\\users\\ravis\\appdata\\local\\programs\\python\\python312\\lib\\site-packages (from wandb) (69.1.1)\n",
      "Requirement already satisfied: appdirs>=1.4.3 in c:\\users\\ravis\\appdata\\local\\programs\\python\\python312\\lib\\site-packages (from wandb) (1.4.4)\n",
      "Requirement already satisfied: protobuf!=4.21.0,<5,>=3.19.0 in c:\\users\\ravis\\appdata\\local\\programs\\python\\python312\\lib\\site-packages (from wandb) (4.25.3)\n",
      "Requirement already satisfied: colorama in c:\\users\\ravis\\appdata\\local\\programs\\python\\python312\\lib\\site-packages (from Click!=8.0.0,>=7.1->wandb) (0.4.6)\n",
      "Requirement already satisfied: six>=1.4.0 in c:\\users\\ravis\\appdata\\local\\programs\\python\\python312\\lib\\site-packages (from docker-pycreds>=0.4.0->wandb) (1.16.0)\n",
      "Requirement already satisfied: gitdb<5,>=4.0.1 in c:\\users\\ravis\\appdata\\local\\programs\\python\\python312\\lib\\site-packages (from GitPython!=3.1.29,>=1.0.0->wandb) (4.0.11)\n",
      "Requirement already satisfied: charset-normalizer<4,>=2 in c:\\users\\ravis\\appdata\\local\\programs\\python\\python312\\lib\\site-packages (from requests<3,>=2.0.0->wandb) (3.3.0)\n",
      "Requirement already satisfied: idna<4,>=2.5 in c:\\users\\ravis\\appdata\\local\\programs\\python\\python312\\lib\\site-packages (from requests<3,>=2.0.0->wandb) (3.4)\n",
      "Requirement already satisfied: urllib3<3,>=1.21.1 in c:\\users\\ravis\\appdata\\local\\programs\\python\\python312\\lib\\site-packages (from requests<3,>=2.0.0->wandb) (2.0.6)\n",
      "Requirement already satisfied: certifi>=2017.4.17 in c:\\users\\ravis\\appdata\\local\\programs\\python\\python312\\lib\\site-packages (from requests<3,>=2.0.0->wandb) (2023.7.22)\n",
      "Requirement already satisfied: smmap<6,>=3.0.1 in c:\\users\\ravis\\appdata\\local\\programs\\python\\python312\\lib\\site-packages (from gitdb<5,>=4.0.1->GitPython!=3.1.29,>=1.0.0->wandb) (5.0.1)\n"
     ]
    }
   ],
   "source": [
    "! pip install wandb"
   ]
  },
  {
   "cell_type": "code",
   "execution_count": 1,
   "metadata": {
    "id": "SfQKQYGw697b"
   },
   "outputs": [],
   "source": [
    "import numpy as np\n",
    "import matplotlib.pyplot as plt\n",
    "from sklearn import metrics\n",
    "from sklearn.model_selection import train_test_split\n",
    "from keras.datasets import fashion_mnist,mnist\n",
    "import pandas as pd\n",
    "import wandb"
   ]
  },
  {
   "cell_type": "code",
   "execution_count": 2,
   "metadata": {},
   "outputs": [],
   "source": [
    "# Question - 2 solution\n",
    "def softMax_q2(aL):\n",
    "    den=0\n",
    "    aL = np.clip(aL,-499,499)\n",
    "    for i in range(10):\n",
    "        den+=np.exp(aL[0][i])\n",
    "    y = np.zeros(10)\n",
    "    for i in range(10):\n",
    "        y[i] = np.exp(aL[0][i])/den\n",
    "    return y\n",
    "    \n",
    "def forward_pass(X,hiddenLayers,bias,weightMatrix):\n",
    "    probability=[]\n",
    "    for x in X:\n",
    "        input = x.reshape(1,-1).T\n",
    "        for i in range(1,hiddenLayers+1):\n",
    "            a_i = bias[i].T + weightMatrix[i]@input\n",
    "            h_i = np.tanh(a_i)\n",
    "            input=h_i\n",
    "        a_l = bias[hiddenLayers+1].T+weightMatrix[hiddenLayers+1]@h_i\n",
    "        out = softMax_q2(a_l.T)\n",
    "        probability.append(out)\n",
    "    return probability\n",
    "\n",
    "# 2nd question\n",
    "def q2():\n",
    "    neuronPerHiddenLayer = [16,16,16]\n",
    "    (train_images, train_labels), (test_images, test_labels) = fashion_mnist.load_data()\n",
    "    inputLayerNeuron = train_images.shape[1]*train_images.shape[2]\n",
    "    outputLayerNeuron = 10\n",
    "    train_images = train_images/255.0\n",
    "    neuronPerLayer = [inputLayerNeuron] + neuronPerHiddenLayer + [outputLayerNeuron]\n",
    "    weightMatrix = [0]\n",
    "    bias = [0]\n",
    "    for j in range(1,len(neuronPerLayer)):\n",
    "        limit = np.sqrt(2/float(neuronPerLayer[j] + neuronPerLayer[j-1]))\n",
    "        weightMatrix.append(np.random.normal(0.0,limit,size = (neuronPerLayer[j],neuronPerLayer[j-1])))\n",
    "        bias.append(np.zeros((1,neuronPerLayer[j])))\n",
    "    hiddenLayers = len(neuronPerHiddenLayer)\n",
    "    \n",
    "    answers = forward_pass(train_images,hiddenLayers,bias,weightMatrix)\n",
    "    np.set_printoptions(suppress=True)\n",
    "    print(answers[0])\n",
    "    # print(sum(answers[0]))\n",
    "# q2()"
   ]
  },
  {
   "cell_type": "code",
   "execution_count": 3,
   "metadata": {
    "id": "AWQEwczB6972"
   },
   "outputs": [],
   "source": [
    "def get_weights_random(row,col):\n",
    "    return (np.random.randn(row,col))*0.01\n",
    "def get_weights_xavier(row,col):\n",
    "    return (np.random.randn(row,col)*np.sqrt(2/(row+col)))\n",
    "def update_type(x):\n",
    "    return np.array(x,dtype=object)\n",
    "def initialize_params(method,hidden_layers,neurons):   \n",
    "    L=hidden_layers+1\n",
    "    weights = []\n",
    "    biases = []\n",
    "    prev_updates_W = []\n",
    "    prev_updates_B = []\n",
    "    for i in range(hidden_layers+2):\n",
    "        weights.append(0)\n",
    "        biases.append(0)\n",
    "        prev_updates_B.append(0)\n",
    "        prev_updates_W.append(0)\n",
    "   \n",
    "    np.random.seed(55)\n",
    "    if(method==\"random\"):\n",
    "        for i in range(1,hidden_layers+2):\n",
    "            weights[i]=get_weights_random(neurons[i],neurons[i-1])\n",
    "            biases[i]=(np.zeros((neurons[i],1)))\n",
    "            prev_updates_W[i]=np.zeros((neurons[i],neurons[i-1]))\n",
    "            prev_updates_B[i]=np.zeros((neurons[i],1))\n",
    "    else:\n",
    "        for i in range(1,hidden_layers+2):\n",
    "            weights[i]=get_weights_xavier(neurons[i],neurons[i-1])\n",
    "            biases[i]=(np.zeros((neurons[i],1)))\n",
    "            prev_updates_W[i]=np.zeros((neurons[i],neurons[i-1]))\n",
    "            prev_updates_B[i]=np.zeros((neurons[i],1))\n",
    "\n",
    "    prev_updates_B=update_type(prev_updates_B)\n",
    "    prev_updates_W=update_type(prev_updates_W)\n",
    "    biases=update_type(biases)\n",
    "    weights=update_type(weights)\n",
    "    return weights,biases,prev_updates_W,prev_updates_B"
   ]
  },
  {
   "cell_type": "code",
   "execution_count": 4,
   "metadata": {
    "id": "0rjPkhE9697x"
   },
   "outputs": [],
   "source": [
    "def d_Relu(x):\n",
    "    return 1*(x>0) \n",
    "\n",
    "def Relu(x):\n",
    "    rl = np.maximum(0,x)\n",
    "    return rl\n",
    "\n",
    "def sigmoid(x):\n",
    "    sig_val = 1.0 / (1.0 + np.exp(-np.clip(x, -499, 499)))\n",
    "    return sig_val\n",
    "\n",
    "def d_sigmoid(x):\n",
    "    return sigmoid(x)* np.subtract(1, sigmoid(x))\n",
    "\n",
    "def softmax(x):\n",
    "    x=x-np.max(x,axis=0)\n",
    "    # Softmax for calculating the final layer h[i]\n",
    "    # print(np.exp(x))\n",
    "    # print(np.sum(np.exp(x)))\n",
    "    return np.exp(x) / np.sum(np.exp(x), axis=0)\n",
    "\n",
    "def tanh(x):\n",
    "    tan_val = np.tanh(x)\n",
    "    return tan_val\n",
    "\n",
    "def d_tanh(x):\n",
    "    return (1 - (np.tanh(x)**2))\n",
    "    \n",
    "def identity(x):\n",
    "    return x"
   ]
  },
  {
   "cell_type": "markdown",
   "metadata": {
    "id": "RMKAtDnkJxwF"
   },
   "source": [
    "### Question-1"
   ]
  },
  {
   "cell_type": "code",
   "execution_count": 2,
   "metadata": {
    "id": "cFpHsIZX697r"
   },
   "outputs": [
    {
     "name": "stderr",
     "output_type": "stream",
     "text": [
      "\u001b[34m\u001b[1mwandb\u001b[0m: Currently logged in as: \u001b[33mcs23m055\u001b[0m (\u001b[33mcs23m055_assignment_1\u001b[0m). Use \u001b[1m`wandb login --relogin`\u001b[0m to force relogin\n",
      "\u001b[34m\u001b[1mwandb\u001b[0m: \u001b[33mWARNING\u001b[0m If you're specifying your api key in code, ensure this code is not shared publicly.\n",
      "\u001b[34m\u001b[1mwandb\u001b[0m: \u001b[33mWARNING\u001b[0m Consider setting the WANDB_API_KEY environment variable, or running `wandb login` from the command line.\n",
      "\u001b[34m\u001b[1mwandb\u001b[0m: Appending key for api.wandb.ai to your netrc file: C:\\Users\\ravis\\.netrc\n",
      "\u001b[34m\u001b[1mwandb\u001b[0m: Currently logged in as: \u001b[33mcs23m055\u001b[0m. Use \u001b[1m`wandb login --relogin`\u001b[0m to force relogin\n"
     ]
    },
    {
     "data": {
      "text/html": [
       "Tracking run with wandb version 0.16.4"
      ],
      "text/plain": [
       "<IPython.core.display.HTML object>"
      ]
     },
     "metadata": {},
     "output_type": "display_data"
    },
    {
     "data": {
      "text/html": [
       "Run data is saved locally in <code>M:\\Practice\\Semester-2\\Deep Learning\\Assignments\\miscelleanous\\sn\\wandb\\run-20240317_223140-i90tj2kq</code>"
      ],
      "text/plain": [
       "<IPython.core.display.HTML object>"
      ]
     },
     "metadata": {},
     "output_type": "display_data"
    },
    {
     "data": {
      "text/html": [
       "Syncing run <strong><a href='https://wandb.ai/cs23m055/final_version/runs/i90tj2kq' target=\"_blank\">polished-darkness-25</a></strong> to <a href='https://wandb.ai/cs23m055/final_version' target=\"_blank\">Weights & Biases</a> (<a href='https://wandb.me/run' target=\"_blank\">docs</a>)<br/>"
      ],
      "text/plain": [
       "<IPython.core.display.HTML object>"
      ]
     },
     "metadata": {},
     "output_type": "display_data"
    },
    {
     "data": {
      "text/html": [
       " View project at <a href='https://wandb.ai/cs23m055/final_version' target=\"_blank\">https://wandb.ai/cs23m055/final_version</a>"
      ],
      "text/plain": [
       "<IPython.core.display.HTML object>"
      ]
     },
     "metadata": {},
     "output_type": "display_data"
    },
    {
     "data": {
      "text/html": [
       " View run at <a href='https://wandb.ai/cs23m055/final_version/runs/i90tj2kq' target=\"_blank\">https://wandb.ai/cs23m055/final_version/runs/i90tj2kq</a>"
      ],
      "text/plain": [
       "<IPython.core.display.HTML object>"
      ]
     },
     "metadata": {},
     "output_type": "display_data"
    },
    {
     "data": {
      "text/html": [
       " View run <strong style=\"color:#cdcd00\">polished-darkness-25</strong> at: <a href='https://wandb.ai/cs23m055/final_version/runs/i90tj2kq' target=\"_blank\">https://wandb.ai/cs23m055/final_version/runs/i90tj2kq</a><br/>Synced 4 W&B file(s), 1 media file(s), 0 artifact file(s) and 0 other file(s)"
      ],
      "text/plain": [
       "<IPython.core.display.HTML object>"
      ]
     },
     "metadata": {},
     "output_type": "display_data"
    },
    {
     "data": {
      "text/html": [
       "Find logs at: <code>.\\wandb\\run-20240317_223140-i90tj2kq\\logs</code>"
      ],
      "text/plain": [
       "<IPython.core.display.HTML object>"
      ]
     },
     "metadata": {},
     "output_type": "display_data"
    },
    {
     "name": "stderr",
     "output_type": "stream",
     "text": [
      "\u001b[34m\u001b[1mwandb\u001b[0m: \u001b[33mWARNING\u001b[0m If you're specifying your api key in code, ensure this code is not shared publicly.\n",
      "\u001b[34m\u001b[1mwandb\u001b[0m: \u001b[33mWARNING\u001b[0m Consider setting the WANDB_API_KEY environment variable, or running `wandb login` from the command line.\n",
      "\u001b[34m\u001b[1mwandb\u001b[0m: Appending key for api.wandb.ai to your netrc file: C:\\Users\\ravis\\.netrc\n"
     ]
    },
    {
     "data": {
      "text/html": [
       "Tracking run with wandb version 0.16.4"
      ],
      "text/plain": [
       "<IPython.core.display.HTML object>"
      ]
     },
     "metadata": {},
     "output_type": "display_data"
    },
    {
     "data": {
      "text/html": [
       "Run data is saved locally in <code>M:\\Practice\\Semester-2\\Deep Learning\\Assignments\\miscelleanous\\sn\\wandb\\run-20240317_223154-89pz43ci</code>"
      ],
      "text/plain": [
       "<IPython.core.display.HTML object>"
      ]
     },
     "metadata": {},
     "output_type": "display_data"
    },
    {
     "data": {
      "text/html": [
       "Syncing run <strong><a href='https://wandb.ai/cs23m055/final_version/runs/89pz43ci' target=\"_blank\">visionary-sound-26</a></strong> to <a href='https://wandb.ai/cs23m055/final_version' target=\"_blank\">Weights & Biases</a> (<a href='https://wandb.me/run' target=\"_blank\">docs</a>)<br/>"
      ],
      "text/plain": [
       "<IPython.core.display.HTML object>"
      ]
     },
     "metadata": {},
     "output_type": "display_data"
    },
    {
     "data": {
      "text/html": [
       " View project at <a href='https://wandb.ai/cs23m055/final_version' target=\"_blank\">https://wandb.ai/cs23m055/final_version</a>"
      ],
      "text/plain": [
       "<IPython.core.display.HTML object>"
      ]
     },
     "metadata": {},
     "output_type": "display_data"
    },
    {
     "data": {
      "text/html": [
       " View run at <a href='https://wandb.ai/cs23m055/final_version/runs/89pz43ci' target=\"_blank\">https://wandb.ai/cs23m055/final_version/runs/89pz43ci</a>"
      ],
      "text/plain": [
       "<IPython.core.display.HTML object>"
      ]
     },
     "metadata": {},
     "output_type": "display_data"
    },
    {
     "data": {
      "text/html": [
       " View run <strong style=\"color:#cdcd00\">visionary-sound-26</strong> at: <a href='https://wandb.ai/cs23m055/final_version/runs/89pz43ci' target=\"_blank\">https://wandb.ai/cs23m055/final_version/runs/89pz43ci</a><br/>Synced 4 W&B file(s), 1 media file(s), 0 artifact file(s) and 0 other file(s)"
      ],
      "text/plain": [
       "<IPython.core.display.HTML object>"
      ]
     },
     "metadata": {},
     "output_type": "display_data"
    },
    {
     "data": {
      "text/html": [
       "Find logs at: <code>.\\wandb\\run-20240317_223154-89pz43ci\\logs</code>"
      ],
      "text/plain": [
       "<IPython.core.display.HTML object>"
      ]
     },
     "metadata": {},
     "output_type": "display_data"
    },
    {
     "name": "stderr",
     "output_type": "stream",
     "text": [
      "\u001b[34m\u001b[1mwandb\u001b[0m: \u001b[33mWARNING\u001b[0m If you're specifying your api key in code, ensure this code is not shared publicly.\n",
      "\u001b[34m\u001b[1mwandb\u001b[0m: \u001b[33mWARNING\u001b[0m Consider setting the WANDB_API_KEY environment variable, or running `wandb login` from the command line.\n",
      "\u001b[34m\u001b[1mwandb\u001b[0m: Appending key for api.wandb.ai to your netrc file: C:\\Users\\ravis\\.netrc\n"
     ]
    },
    {
     "data": {
      "text/html": [
       "Tracking run with wandb version 0.16.4"
      ],
      "text/plain": [
       "<IPython.core.display.HTML object>"
      ]
     },
     "metadata": {},
     "output_type": "display_data"
    },
    {
     "data": {
      "text/html": [
       "Run data is saved locally in <code>M:\\Practice\\Semester-2\\Deep Learning\\Assignments\\miscelleanous\\sn\\wandb\\run-20240317_223206-4jcwdp8p</code>"
      ],
      "text/plain": [
       "<IPython.core.display.HTML object>"
      ]
     },
     "metadata": {},
     "output_type": "display_data"
    },
    {
     "data": {
      "text/html": [
       "Syncing run <strong><a href='https://wandb.ai/cs23m055/final_version/runs/4jcwdp8p' target=\"_blank\">graceful-oath-27</a></strong> to <a href='https://wandb.ai/cs23m055/final_version' target=\"_blank\">Weights & Biases</a> (<a href='https://wandb.me/run' target=\"_blank\">docs</a>)<br/>"
      ],
      "text/plain": [
       "<IPython.core.display.HTML object>"
      ]
     },
     "metadata": {},
     "output_type": "display_data"
    },
    {
     "data": {
      "text/html": [
       " View project at <a href='https://wandb.ai/cs23m055/final_version' target=\"_blank\">https://wandb.ai/cs23m055/final_version</a>"
      ],
      "text/plain": [
       "<IPython.core.display.HTML object>"
      ]
     },
     "metadata": {},
     "output_type": "display_data"
    },
    {
     "data": {
      "text/html": [
       " View run at <a href='https://wandb.ai/cs23m055/final_version/runs/4jcwdp8p' target=\"_blank\">https://wandb.ai/cs23m055/final_version/runs/4jcwdp8p</a>"
      ],
      "text/plain": [
       "<IPython.core.display.HTML object>"
      ]
     },
     "metadata": {},
     "output_type": "display_data"
    },
    {
     "data": {
      "text/html": [
       " View run <strong style=\"color:#cdcd00\">graceful-oath-27</strong> at: <a href='https://wandb.ai/cs23m055/final_version/runs/4jcwdp8p' target=\"_blank\">https://wandb.ai/cs23m055/final_version/runs/4jcwdp8p</a><br/>Synced 4 W&B file(s), 1 media file(s), 0 artifact file(s) and 0 other file(s)"
      ],
      "text/plain": [
       "<IPython.core.display.HTML object>"
      ]
     },
     "metadata": {},
     "output_type": "display_data"
    },
    {
     "data": {
      "text/html": [
       "Find logs at: <code>.\\wandb\\run-20240317_223206-4jcwdp8p\\logs</code>"
      ],
      "text/plain": [
       "<IPython.core.display.HTML object>"
      ]
     },
     "metadata": {},
     "output_type": "display_data"
    },
    {
     "name": "stderr",
     "output_type": "stream",
     "text": [
      "\u001b[34m\u001b[1mwandb\u001b[0m: \u001b[33mWARNING\u001b[0m If you're specifying your api key in code, ensure this code is not shared publicly.\n",
      "\u001b[34m\u001b[1mwandb\u001b[0m: \u001b[33mWARNING\u001b[0m Consider setting the WANDB_API_KEY environment variable, or running `wandb login` from the command line.\n",
      "\u001b[34m\u001b[1mwandb\u001b[0m: Appending key for api.wandb.ai to your netrc file: C:\\Users\\ravis\\.netrc\n"
     ]
    },
    {
     "data": {
      "text/html": [
       "Tracking run with wandb version 0.16.4"
      ],
      "text/plain": [
       "<IPython.core.display.HTML object>"
      ]
     },
     "metadata": {},
     "output_type": "display_data"
    },
    {
     "data": {
      "text/html": [
       "Run data is saved locally in <code>M:\\Practice\\Semester-2\\Deep Learning\\Assignments\\miscelleanous\\sn\\wandb\\run-20240317_223221-sl3ncwcd</code>"
      ],
      "text/plain": [
       "<IPython.core.display.HTML object>"
      ]
     },
     "metadata": {},
     "output_type": "display_data"
    },
    {
     "data": {
      "text/html": [
       "Syncing run <strong><a href='https://wandb.ai/cs23m055/final_version/runs/sl3ncwcd' target=\"_blank\">comic-breeze-28</a></strong> to <a href='https://wandb.ai/cs23m055/final_version' target=\"_blank\">Weights & Biases</a> (<a href='https://wandb.me/run' target=\"_blank\">docs</a>)<br/>"
      ],
      "text/plain": [
       "<IPython.core.display.HTML object>"
      ]
     },
     "metadata": {},
     "output_type": "display_data"
    },
    {
     "data": {
      "text/html": [
       " View project at <a href='https://wandb.ai/cs23m055/final_version' target=\"_blank\">https://wandb.ai/cs23m055/final_version</a>"
      ],
      "text/plain": [
       "<IPython.core.display.HTML object>"
      ]
     },
     "metadata": {},
     "output_type": "display_data"
    },
    {
     "data": {
      "text/html": [
       " View run at <a href='https://wandb.ai/cs23m055/final_version/runs/sl3ncwcd' target=\"_blank\">https://wandb.ai/cs23m055/final_version/runs/sl3ncwcd</a>"
      ],
      "text/plain": [
       "<IPython.core.display.HTML object>"
      ]
     },
     "metadata": {},
     "output_type": "display_data"
    },
    {
     "data": {
      "text/html": [
       " View run <strong style=\"color:#cdcd00\">comic-breeze-28</strong> at: <a href='https://wandb.ai/cs23m055/final_version/runs/sl3ncwcd' target=\"_blank\">https://wandb.ai/cs23m055/final_version/runs/sl3ncwcd</a><br/>Synced 4 W&B file(s), 1 media file(s), 0 artifact file(s) and 0 other file(s)"
      ],
      "text/plain": [
       "<IPython.core.display.HTML object>"
      ]
     },
     "metadata": {},
     "output_type": "display_data"
    },
    {
     "data": {
      "text/html": [
       "Find logs at: <code>.\\wandb\\run-20240317_223221-sl3ncwcd\\logs</code>"
      ],
      "text/plain": [
       "<IPython.core.display.HTML object>"
      ]
     },
     "metadata": {},
     "output_type": "display_data"
    },
    {
     "name": "stderr",
     "output_type": "stream",
     "text": [
      "\u001b[34m\u001b[1mwandb\u001b[0m: \u001b[33mWARNING\u001b[0m If you're specifying your api key in code, ensure this code is not shared publicly.\n",
      "\u001b[34m\u001b[1mwandb\u001b[0m: \u001b[33mWARNING\u001b[0m Consider setting the WANDB_API_KEY environment variable, or running `wandb login` from the command line.\n",
      "\u001b[34m\u001b[1mwandb\u001b[0m: Appending key for api.wandb.ai to your netrc file: C:\\Users\\ravis\\.netrc\n"
     ]
    },
    {
     "data": {
      "text/html": [
       "Tracking run with wandb version 0.16.4"
      ],
      "text/plain": [
       "<IPython.core.display.HTML object>"
      ]
     },
     "metadata": {},
     "output_type": "display_data"
    },
    {
     "data": {
      "text/html": [
       "Run data is saved locally in <code>M:\\Practice\\Semester-2\\Deep Learning\\Assignments\\miscelleanous\\sn\\wandb\\run-20240317_223238-r9yg9c92</code>"
      ],
      "text/plain": [
       "<IPython.core.display.HTML object>"
      ]
     },
     "metadata": {},
     "output_type": "display_data"
    },
    {
     "data": {
      "text/html": [
       "Syncing run <strong><a href='https://wandb.ai/cs23m055/final_version/runs/r9yg9c92' target=\"_blank\">winter-fog-29</a></strong> to <a href='https://wandb.ai/cs23m055/final_version' target=\"_blank\">Weights & Biases</a> (<a href='https://wandb.me/run' target=\"_blank\">docs</a>)<br/>"
      ],
      "text/plain": [
       "<IPython.core.display.HTML object>"
      ]
     },
     "metadata": {},
     "output_type": "display_data"
    },
    {
     "data": {
      "text/html": [
       " View project at <a href='https://wandb.ai/cs23m055/final_version' target=\"_blank\">https://wandb.ai/cs23m055/final_version</a>"
      ],
      "text/plain": [
       "<IPython.core.display.HTML object>"
      ]
     },
     "metadata": {},
     "output_type": "display_data"
    },
    {
     "data": {
      "text/html": [
       " View run at <a href='https://wandb.ai/cs23m055/final_version/runs/r9yg9c92' target=\"_blank\">https://wandb.ai/cs23m055/final_version/runs/r9yg9c92</a>"
      ],
      "text/plain": [
       "<IPython.core.display.HTML object>"
      ]
     },
     "metadata": {},
     "output_type": "display_data"
    },
    {
     "data": {
      "text/html": [
       " View run <strong style=\"color:#cdcd00\">winter-fog-29</strong> at: <a href='https://wandb.ai/cs23m055/final_version/runs/r9yg9c92' target=\"_blank\">https://wandb.ai/cs23m055/final_version/runs/r9yg9c92</a><br/>Synced 4 W&B file(s), 1 media file(s), 0 artifact file(s) and 0 other file(s)"
      ],
      "text/plain": [
       "<IPython.core.display.HTML object>"
      ]
     },
     "metadata": {},
     "output_type": "display_data"
    },
    {
     "data": {
      "text/html": [
       "Find logs at: <code>.\\wandb\\run-20240317_223238-r9yg9c92\\logs</code>"
      ],
      "text/plain": [
       "<IPython.core.display.HTML object>"
      ]
     },
     "metadata": {},
     "output_type": "display_data"
    },
    {
     "name": "stderr",
     "output_type": "stream",
     "text": [
      "\u001b[34m\u001b[1mwandb\u001b[0m: \u001b[33mWARNING\u001b[0m If you're specifying your api key in code, ensure this code is not shared publicly.\n",
      "\u001b[34m\u001b[1mwandb\u001b[0m: \u001b[33mWARNING\u001b[0m Consider setting the WANDB_API_KEY environment variable, or running `wandb login` from the command line.\n",
      "\u001b[34m\u001b[1mwandb\u001b[0m: Appending key for api.wandb.ai to your netrc file: C:\\Users\\ravis\\.netrc\n"
     ]
    },
    {
     "data": {
      "text/html": [
       "Tracking run with wandb version 0.16.4"
      ],
      "text/plain": [
       "<IPython.core.display.HTML object>"
      ]
     },
     "metadata": {},
     "output_type": "display_data"
    },
    {
     "data": {
      "text/html": [
       "Run data is saved locally in <code>M:\\Practice\\Semester-2\\Deep Learning\\Assignments\\miscelleanous\\sn\\wandb\\run-20240317_223254-7n8y0pba</code>"
      ],
      "text/plain": [
       "<IPython.core.display.HTML object>"
      ]
     },
     "metadata": {},
     "output_type": "display_data"
    },
    {
     "data": {
      "text/html": [
       "Syncing run <strong><a href='https://wandb.ai/cs23m055/final_version/runs/7n8y0pba' target=\"_blank\">super-sea-30</a></strong> to <a href='https://wandb.ai/cs23m055/final_version' target=\"_blank\">Weights & Biases</a> (<a href='https://wandb.me/run' target=\"_blank\">docs</a>)<br/>"
      ],
      "text/plain": [
       "<IPython.core.display.HTML object>"
      ]
     },
     "metadata": {},
     "output_type": "display_data"
    },
    {
     "data": {
      "text/html": [
       " View project at <a href='https://wandb.ai/cs23m055/final_version' target=\"_blank\">https://wandb.ai/cs23m055/final_version</a>"
      ],
      "text/plain": [
       "<IPython.core.display.HTML object>"
      ]
     },
     "metadata": {},
     "output_type": "display_data"
    },
    {
     "data": {
      "text/html": [
       " View run at <a href='https://wandb.ai/cs23m055/final_version/runs/7n8y0pba' target=\"_blank\">https://wandb.ai/cs23m055/final_version/runs/7n8y0pba</a>"
      ],
      "text/plain": [
       "<IPython.core.display.HTML object>"
      ]
     },
     "metadata": {},
     "output_type": "display_data"
    },
    {
     "data": {
      "text/html": [
       " View run <strong style=\"color:#cdcd00\">super-sea-30</strong> at: <a href='https://wandb.ai/cs23m055/final_version/runs/7n8y0pba' target=\"_blank\">https://wandb.ai/cs23m055/final_version/runs/7n8y0pba</a><br/>Synced 4 W&B file(s), 1 media file(s), 0 artifact file(s) and 0 other file(s)"
      ],
      "text/plain": [
       "<IPython.core.display.HTML object>"
      ]
     },
     "metadata": {},
     "output_type": "display_data"
    },
    {
     "data": {
      "text/html": [
       "Find logs at: <code>.\\wandb\\run-20240317_223254-7n8y0pba\\logs</code>"
      ],
      "text/plain": [
       "<IPython.core.display.HTML object>"
      ]
     },
     "metadata": {},
     "output_type": "display_data"
    },
    {
     "name": "stderr",
     "output_type": "stream",
     "text": [
      "\u001b[34m\u001b[1mwandb\u001b[0m: \u001b[33mWARNING\u001b[0m If you're specifying your api key in code, ensure this code is not shared publicly.\n",
      "\u001b[34m\u001b[1mwandb\u001b[0m: \u001b[33mWARNING\u001b[0m Consider setting the WANDB_API_KEY environment variable, or running `wandb login` from the command line.\n",
      "\u001b[34m\u001b[1mwandb\u001b[0m: Appending key for api.wandb.ai to your netrc file: C:\\Users\\ravis\\.netrc\n"
     ]
    },
    {
     "data": {
      "text/html": [
       "Tracking run with wandb version 0.16.4"
      ],
      "text/plain": [
       "<IPython.core.display.HTML object>"
      ]
     },
     "metadata": {},
     "output_type": "display_data"
    },
    {
     "data": {
      "text/html": [
       "Run data is saved locally in <code>M:\\Practice\\Semester-2\\Deep Learning\\Assignments\\miscelleanous\\sn\\wandb\\run-20240317_223307-i9pj0pcu</code>"
      ],
      "text/plain": [
       "<IPython.core.display.HTML object>"
      ]
     },
     "metadata": {},
     "output_type": "display_data"
    },
    {
     "data": {
      "text/html": [
       "Syncing run <strong><a href='https://wandb.ai/cs23m055/final_version/runs/i9pj0pcu' target=\"_blank\">vocal-salad-31</a></strong> to <a href='https://wandb.ai/cs23m055/final_version' target=\"_blank\">Weights & Biases</a> (<a href='https://wandb.me/run' target=\"_blank\">docs</a>)<br/>"
      ],
      "text/plain": [
       "<IPython.core.display.HTML object>"
      ]
     },
     "metadata": {},
     "output_type": "display_data"
    },
    {
     "data": {
      "text/html": [
       " View project at <a href='https://wandb.ai/cs23m055/final_version' target=\"_blank\">https://wandb.ai/cs23m055/final_version</a>"
      ],
      "text/plain": [
       "<IPython.core.display.HTML object>"
      ]
     },
     "metadata": {},
     "output_type": "display_data"
    },
    {
     "data": {
      "text/html": [
       " View run at <a href='https://wandb.ai/cs23m055/final_version/runs/i9pj0pcu' target=\"_blank\">https://wandb.ai/cs23m055/final_version/runs/i9pj0pcu</a>"
      ],
      "text/plain": [
       "<IPython.core.display.HTML object>"
      ]
     },
     "metadata": {},
     "output_type": "display_data"
    },
    {
     "data": {
      "text/html": [
       " View run <strong style=\"color:#cdcd00\">vocal-salad-31</strong> at: <a href='https://wandb.ai/cs23m055/final_version/runs/i9pj0pcu' target=\"_blank\">https://wandb.ai/cs23m055/final_version/runs/i9pj0pcu</a><br/>Synced 4 W&B file(s), 1 media file(s), 0 artifact file(s) and 0 other file(s)"
      ],
      "text/plain": [
       "<IPython.core.display.HTML object>"
      ]
     },
     "metadata": {},
     "output_type": "display_data"
    },
    {
     "data": {
      "text/html": [
       "Find logs at: <code>.\\wandb\\run-20240317_223307-i9pj0pcu\\logs</code>"
      ],
      "text/plain": [
       "<IPython.core.display.HTML object>"
      ]
     },
     "metadata": {},
     "output_type": "display_data"
    },
    {
     "name": "stderr",
     "output_type": "stream",
     "text": [
      "\u001b[34m\u001b[1mwandb\u001b[0m: \u001b[33mWARNING\u001b[0m If you're specifying your api key in code, ensure this code is not shared publicly.\n",
      "\u001b[34m\u001b[1mwandb\u001b[0m: \u001b[33mWARNING\u001b[0m Consider setting the WANDB_API_KEY environment variable, or running `wandb login` from the command line.\n",
      "\u001b[34m\u001b[1mwandb\u001b[0m: Appending key for api.wandb.ai to your netrc file: C:\\Users\\ravis\\.netrc\n"
     ]
    },
    {
     "data": {
      "text/html": [
       "Tracking run with wandb version 0.16.4"
      ],
      "text/plain": [
       "<IPython.core.display.HTML object>"
      ]
     },
     "metadata": {},
     "output_type": "display_data"
    },
    {
     "data": {
      "text/html": [
       "Run data is saved locally in <code>M:\\Practice\\Semester-2\\Deep Learning\\Assignments\\miscelleanous\\sn\\wandb\\run-20240317_223321-8fxvso0z</code>"
      ],
      "text/plain": [
       "<IPython.core.display.HTML object>"
      ]
     },
     "metadata": {},
     "output_type": "display_data"
    },
    {
     "data": {
      "text/html": [
       "Syncing run <strong><a href='https://wandb.ai/cs23m055/final_version/runs/8fxvso0z' target=\"_blank\">kind-dawn-32</a></strong> to <a href='https://wandb.ai/cs23m055/final_version' target=\"_blank\">Weights & Biases</a> (<a href='https://wandb.me/run' target=\"_blank\">docs</a>)<br/>"
      ],
      "text/plain": [
       "<IPython.core.display.HTML object>"
      ]
     },
     "metadata": {},
     "output_type": "display_data"
    },
    {
     "data": {
      "text/html": [
       " View project at <a href='https://wandb.ai/cs23m055/final_version' target=\"_blank\">https://wandb.ai/cs23m055/final_version</a>"
      ],
      "text/plain": [
       "<IPython.core.display.HTML object>"
      ]
     },
     "metadata": {},
     "output_type": "display_data"
    },
    {
     "data": {
      "text/html": [
       " View run at <a href='https://wandb.ai/cs23m055/final_version/runs/8fxvso0z' target=\"_blank\">https://wandb.ai/cs23m055/final_version/runs/8fxvso0z</a>"
      ],
      "text/plain": [
       "<IPython.core.display.HTML object>"
      ]
     },
     "metadata": {},
     "output_type": "display_data"
    },
    {
     "data": {
      "text/html": [
       " View run <strong style=\"color:#cdcd00\">kind-dawn-32</strong> at: <a href='https://wandb.ai/cs23m055/final_version/runs/8fxvso0z' target=\"_blank\">https://wandb.ai/cs23m055/final_version/runs/8fxvso0z</a><br/>Synced 4 W&B file(s), 1 media file(s), 0 artifact file(s) and 0 other file(s)"
      ],
      "text/plain": [
       "<IPython.core.display.HTML object>"
      ]
     },
     "metadata": {},
     "output_type": "display_data"
    },
    {
     "data": {
      "text/html": [
       "Find logs at: <code>.\\wandb\\run-20240317_223321-8fxvso0z\\logs</code>"
      ],
      "text/plain": [
       "<IPython.core.display.HTML object>"
      ]
     },
     "metadata": {},
     "output_type": "display_data"
    },
    {
     "name": "stderr",
     "output_type": "stream",
     "text": [
      "\u001b[34m\u001b[1mwandb\u001b[0m: \u001b[33mWARNING\u001b[0m If you're specifying your api key in code, ensure this code is not shared publicly.\n",
      "\u001b[34m\u001b[1mwandb\u001b[0m: \u001b[33mWARNING\u001b[0m Consider setting the WANDB_API_KEY environment variable, or running `wandb login` from the command line.\n",
      "\u001b[34m\u001b[1mwandb\u001b[0m: Appending key for api.wandb.ai to your netrc file: C:\\Users\\ravis\\.netrc\n"
     ]
    },
    {
     "data": {
      "text/html": [
       "Tracking run with wandb version 0.16.4"
      ],
      "text/plain": [
       "<IPython.core.display.HTML object>"
      ]
     },
     "metadata": {},
     "output_type": "display_data"
    },
    {
     "data": {
      "text/html": [
       "Run data is saved locally in <code>M:\\Practice\\Semester-2\\Deep Learning\\Assignments\\miscelleanous\\sn\\wandb\\run-20240317_223332-s6nhrxqa</code>"
      ],
      "text/plain": [
       "<IPython.core.display.HTML object>"
      ]
     },
     "metadata": {},
     "output_type": "display_data"
    },
    {
     "data": {
      "text/html": [
       "Syncing run <strong><a href='https://wandb.ai/cs23m055/final_version/runs/s6nhrxqa' target=\"_blank\">honest-flower-33</a></strong> to <a href='https://wandb.ai/cs23m055/final_version' target=\"_blank\">Weights & Biases</a> (<a href='https://wandb.me/run' target=\"_blank\">docs</a>)<br/>"
      ],
      "text/plain": [
       "<IPython.core.display.HTML object>"
      ]
     },
     "metadata": {},
     "output_type": "display_data"
    },
    {
     "data": {
      "text/html": [
       " View project at <a href='https://wandb.ai/cs23m055/final_version' target=\"_blank\">https://wandb.ai/cs23m055/final_version</a>"
      ],
      "text/plain": [
       "<IPython.core.display.HTML object>"
      ]
     },
     "metadata": {},
     "output_type": "display_data"
    },
    {
     "data": {
      "text/html": [
       " View run at <a href='https://wandb.ai/cs23m055/final_version/runs/s6nhrxqa' target=\"_blank\">https://wandb.ai/cs23m055/final_version/runs/s6nhrxqa</a>"
      ],
      "text/plain": [
       "<IPython.core.display.HTML object>"
      ]
     },
     "metadata": {},
     "output_type": "display_data"
    },
    {
     "data": {
      "text/html": [
       " View run <strong style=\"color:#cdcd00\">honest-flower-33</strong> at: <a href='https://wandb.ai/cs23m055/final_version/runs/s6nhrxqa' target=\"_blank\">https://wandb.ai/cs23m055/final_version/runs/s6nhrxqa</a><br/>Synced 4 W&B file(s), 1 media file(s), 0 artifact file(s) and 0 other file(s)"
      ],
      "text/plain": [
       "<IPython.core.display.HTML object>"
      ]
     },
     "metadata": {},
     "output_type": "display_data"
    },
    {
     "data": {
      "text/html": [
       "Find logs at: <code>.\\wandb\\run-20240317_223332-s6nhrxqa\\logs</code>"
      ],
      "text/plain": [
       "<IPython.core.display.HTML object>"
      ]
     },
     "metadata": {},
     "output_type": "display_data"
    },
    {
     "name": "stderr",
     "output_type": "stream",
     "text": [
      "\u001b[34m\u001b[1mwandb\u001b[0m: \u001b[33mWARNING\u001b[0m If you're specifying your api key in code, ensure this code is not shared publicly.\n",
      "\u001b[34m\u001b[1mwandb\u001b[0m: \u001b[33mWARNING\u001b[0m Consider setting the WANDB_API_KEY environment variable, or running `wandb login` from the command line.\n",
      "\u001b[34m\u001b[1mwandb\u001b[0m: Appending key for api.wandb.ai to your netrc file: C:\\Users\\ravis\\.netrc\n"
     ]
    },
    {
     "data": {
      "text/html": [
       "Tracking run with wandb version 0.16.4"
      ],
      "text/plain": [
       "<IPython.core.display.HTML object>"
      ]
     },
     "metadata": {},
     "output_type": "display_data"
    },
    {
     "data": {
      "text/html": [
       "Run data is saved locally in <code>M:\\Practice\\Semester-2\\Deep Learning\\Assignments\\miscelleanous\\sn\\wandb\\run-20240317_223347-6myxxcju</code>"
      ],
      "text/plain": [
       "<IPython.core.display.HTML object>"
      ]
     },
     "metadata": {},
     "output_type": "display_data"
    },
    {
     "data": {
      "text/html": [
       "Syncing run <strong><a href='https://wandb.ai/cs23m055/final_version/runs/6myxxcju' target=\"_blank\">fancy-forest-34</a></strong> to <a href='https://wandb.ai/cs23m055/final_version' target=\"_blank\">Weights & Biases</a> (<a href='https://wandb.me/run' target=\"_blank\">docs</a>)<br/>"
      ],
      "text/plain": [
       "<IPython.core.display.HTML object>"
      ]
     },
     "metadata": {},
     "output_type": "display_data"
    },
    {
     "data": {
      "text/html": [
       " View project at <a href='https://wandb.ai/cs23m055/final_version' target=\"_blank\">https://wandb.ai/cs23m055/final_version</a>"
      ],
      "text/plain": [
       "<IPython.core.display.HTML object>"
      ]
     },
     "metadata": {},
     "output_type": "display_data"
    },
    {
     "data": {
      "text/html": [
       " View run at <a href='https://wandb.ai/cs23m055/final_version/runs/6myxxcju' target=\"_blank\">https://wandb.ai/cs23m055/final_version/runs/6myxxcju</a>"
      ],
      "text/plain": [
       "<IPython.core.display.HTML object>"
      ]
     },
     "metadata": {},
     "output_type": "display_data"
    },
    {
     "data": {
      "text/html": [
       " View run <strong style=\"color:#cdcd00\">fancy-forest-34</strong> at: <a href='https://wandb.ai/cs23m055/final_version/runs/6myxxcju' target=\"_blank\">https://wandb.ai/cs23m055/final_version/runs/6myxxcju</a><br/>Synced 4 W&B file(s), 1 media file(s), 0 artifact file(s) and 0 other file(s)"
      ],
      "text/plain": [
       "<IPython.core.display.HTML object>"
      ]
     },
     "metadata": {},
     "output_type": "display_data"
    },
    {
     "data": {
      "text/html": [
       "Find logs at: <code>.\\wandb\\run-20240317_223347-6myxxcju\\logs</code>"
      ],
      "text/plain": [
       "<IPython.core.display.HTML object>"
      ]
     },
     "metadata": {},
     "output_type": "display_data"
    },
    {
     "data": {
      "image/png": "[encoded data removed]",
      "text/plain": [
       "<Figure size 1000x1000 with 10 Axes>"
      ]
     },
     "metadata": {},
     "output_type": "display_data"
    },
    {
     "data": {
      "image/png": "[encoded data removed]",
      "text/plain": [
       "<Figure size 1000x1000 with 10 Axes>"
      ]
     },
     "metadata": {},
     "output_type": "display_data"
    },
    {
     "data": {
      "image/png": "[encoded data removed]",
      "text/plain": [
       "<Figure size 1000x1000 with 10 Axes>"
      ]
     },
     "metadata": {},
     "output_type": "display_data"
    },
    {
     "data": {
      "image/png": "[encoded data removed]",
      "text/plain": [
       "<Figure size 1000x1000 with 10 Axes>"
      ]
     },
     "metadata": {},
     "output_type": "display_data"
    },
    {
     "data": {
      "image/png": "[encoded data removed]",
      "text/plain": [
       "<Figure size 1000x1000 with 10 Axes>"
      ]
     },
     "metadata": {},
     "output_type": "display_data"
    },
    {
     "data": {
      "image/png": "[encoded data removed]",
      "text/plain": [
       "<Figure size 1000x1000 with 10 Axes>"
      ]
     },
     "metadata": {},
     "output_type": "display_data"
    },
    {
     "data": {
      "image/png": "[encoded data removed]",
      "text/plain": [
       "<Figure size 1000x1000 with 10 Axes>"
      ]
     },
     "metadata": {},
     "output_type": "display_data"
    },
    {
     "data": {
      "image/png": "[encoded data removed]",
      "text/plain": [
       "<Figure size 1000x1000 with 10 Axes>"
      ]
     },
     "metadata": {},
     "output_type": "display_data"
    },
    {
     "data": {
      "image/png": "[encoded data removed]",
      "text/plain": [
       "<Figure size 1000x1000 with 10 Axes>"
      ]
     },
     "metadata": {},
     "output_type": "display_data"
    },
    {
     "data": {
      "image/png": "[encoded data removed]",
      "text/plain": [
       "<Figure size 1000x1000 with 10 Axes>"
      ]
     },
     "metadata": {},
     "output_type": "display_data"
    }
   ],
   "source": [
    "def plot_images():\n",
    "    wandb.login(key = \"67fcf10073b0d1bfeee44a1e4bd6f3eb5b674f8e\")\n",
    "    # start a new wandb run to track this script\n",
    "    wandb.init(project=\"final_version\",entity=\"cs23m055\")\n",
    "    \n",
    "    (training_data, training_label), (test_data, test_label) =fashion_mnist.load_data()\n",
    "    labels=[]\n",
    "    classes = ['T-shirt/top', 'Trouser', 'Pullover', 'Dress', 'Coat','Sandal', 'Shirt', 'Sneaker', 'Bag', 'Ankle boot']\n",
    "   \n",
    "    fig,ax = plt.subplots(2,5,figsize=(10,10))\n",
    "    cnt = 0\n",
    "    for i in range(len(training_data)):\n",
    "        if(cnt==10):\n",
    "            break\n",
    "        if(training_label[i] not in labels):\n",
    "            labels.append(training_label[i])\n",
    "            ax[cnt//5][cnt%5].imshow(training_data[i],cmap=\"gray\")\n",
    "            ax[cnt//5][cnt%5].set_title(\"Label {}\".format(classes[training_label[i]]))\n",
    "            ax[cnt//5][cnt%5].axis(False)\n",
    "            cnt+=1\n",
    "            \n",
    "    wandb.log({\"plt\":plt})\n",
    "    wandb.run.name = \"Fashion_Mnist_Images\"\n",
    "    wandb.run.save(\"end\")\n",
    "    # wandb.run.finish()\n",
    "    wandb.finish()\n",
    "for i in range(10):\n",
    "    plot_images()"
   ]
  },
  {
   "cell_type": "markdown",
   "metadata": {
    "id": "99oM1GulHrTg"
   },
   "source": [
    "### Fetch data"
   ]
  },
  {
   "cell_type": "code",
   "execution_count": 6,
   "metadata": {
    "id": "tkEiIJbr697v"
   },
   "outputs": [],
   "source": [
    "def load_fashion_mnist():\n",
    "    (training_data, training_label), (test_data, test_label) = fashion_mnist.load_data()\n",
    "    return training_data,training_label,test_data, test_label\n",
    "    \n",
    "def load_mnist():\n",
    "    (training_data, training_label), (test_data, test_label) = mnist.load_data()\n",
    "    return training_data,training_label,test_data, test_label\n",
    "    \n",
    "def normalize(data):\n",
    "    return (data/255.0).reshape(data.shape[0],data.shape[1]*data.shape[2])\n",
    "    \n",
    "def transposed_data(training_data,training_label,train_x,train_y,validation_x,validation_y,test_data, test_label):\n",
    "    validation_x=validation_x.T\n",
    "    validation_y=validation_y.T\n",
    "    \n",
    "    train_x=train_x.T\n",
    "    train_y=train_y.T\n",
    "    \n",
    "    training_data=training_data.T\n",
    "    test_data=test_data.T\n",
    "    return training_data,training_label,train_x,train_y,validation_x,validation_y,test_data, test_label\n",
    "    \n",
    "def collect_data(dataset=\"fashion_mnist\"):\n",
    "    #Load Dataset\n",
    "    if(dataset==\"mnist\"):\n",
    "        training_data,training_label,test_data, test_label = load_mnist()\n",
    "    else:\n",
    "        training_data,training_label,test_data, test_label = load_fashion_mnist()\n",
    "        \n",
    "    num_inputs=training_data.shape[1]*training_data.shape[2]\n",
    "    \n",
    "    #Normalize dataSet\n",
    "    training_data = normalize(training_data)\n",
    "    test_data = normalize(test_data)\n",
    "    \n",
    "    train_x,validation_x,train_y,validation_y=train_test_split(training_data,training_label,test_size=0.1,random_state=55)\n",
    "    return transposed_data(training_data,training_label,train_x,train_y,validation_x,validation_y,test_data, test_label)\n",
    "\n",
    "def encode_y(y):\n",
    "    exp_y=np.zeros((10,y.shape[0]))\n",
    "    i=0\n",
    "    while(i<y.shape[0]):\n",
    "        exp_y[y[i]][i]=1\n",
    "        i+=1\n",
    "    return exp_y\n",
    "    "
   ]
  },
  {
   "cell_type": "code",
   "execution_count": 7,
   "metadata": {
    "id": "wYfoVYJm6973"
   },
   "outputs": [],
   "source": [
    "def post_activation(activation,a_i):\n",
    "    if(activation=='ReLU'):\n",
    "        return (Relu(a_i))\n",
    "    if(activation=='sigmoid'):\n",
    "        return (sigmoid(a_i))\n",
    "    if(activation=='tanh'):\n",
    "        return (tanh(a_i))\n",
    "    if(activation=='identity'):\n",
    "        return (identity(a_i))\n",
    "\n",
    "def FeedForwardNetwork(weights,biases,L,data,activation):\n",
    "    a=[]\n",
    "    h=[]\n",
    "    for i in range(L+1):\n",
    "        a.append(0)\n",
    "        h.append(0)\n",
    "    h[0]=data\n",
    "    # print(\"ff\",data.shape)\n",
    "    for i in range(1,L+1):\n",
    "        weight=weights[i]\n",
    "        bias=biases[i]\n",
    "        \n",
    "        a[i]=(bias + weight@h[i-1])\n",
    "        \n",
    "        # Output layer calculation and then return\n",
    "        if(i==L):\n",
    "            h[i]=softmax(a[i])\n",
    "            return h[L],h,a\n",
    "            \n",
    "        #h_i calculation\n",
    "        h[i]=post_activation(activation,a[i])\n"
   ]
  },
  {
   "cell_type": "markdown",
   "metadata": {
    "id": "q8MhyJnsLm2w"
   },
   "source": [
    "## Back propagation"
   ]
  },
  {
   "cell_type": "code",
   "execution_count": 8,
   "metadata": {
    "id": "4KvkdzaQ6975"
   },
   "outputs": [],
   "source": [
    "def grad_multiplication(activation,level,gradients_H,A):\n",
    "    if(activation=='identity'):\n",
    "        return gradients_H[k-1]\n",
    "    elif(activation=='sigmoid'):\n",
    "        return d_sigmoid(A[level-1])*gradients_H[level-1]\n",
    "    elif(activation=='ReLU'):\n",
    "        return d_Relu(A[level-1])*gradients_H[level-1]\n",
    "    else:\n",
    "        return d_tanh(A[level-1])*gradients_H[level-1]\n",
    "    \n",
    "        \n",
    "def BackPropogation(weights,L,H,A,exp_Y,y_hat,activation,loss=\"cross_entropy\"):\n",
    "    \n",
    "    grad_A=[]\n",
    "    gradients_B=[]\n",
    "    gradients_H=[]\n",
    "    gradients_W=[]\n",
    "    \n",
    "    for i in range(L+1):\n",
    "        gradients_H.append(0)\n",
    "        gradients_W.append(0)\n",
    "        gradients_B.append(0)\n",
    "        grad_A.append(0)\n",
    "    \n",
    "    # Gradient-Output Layer\n",
    "    if loss==\"mean_squared_error\":\n",
    "        s = np.exp(A[L]-np.max(A[L]))/np.sum(np.exp(A[L]-np.max(A[L])),axis=0)\n",
    "        grad_A[L]=-(exp_Y-y_hat) * s * (1-s)\n",
    "        \n",
    "    else:\n",
    "        grad_A[L]=-(exp_Y-y_hat)\n",
    "    \n",
    "    # print(H[0].shape)\n",
    "    # print(H.shape)\n",
    "    ax=1\n",
    "    for level in range(L,0,-1):\n",
    "        #gradients - parameters\n",
    "        gradients_W[level]=grad_A[level]@H[level-1].T\n",
    "        gradients_B[level]=np.sum(grad_A[level], axis=ax,keepdims=True)\n",
    "        gradients_H[level-1]=weights[level].T@grad_A[level]\n",
    "        if(level>1):\n",
    "            grad_A[level-1] = grad_multiplication(activation,level,gradients_H,A)\n",
    "            \n",
    "    return gradients_W,gradients_B"
   ]
  },
  {
   "attachments": {},
   "cell_type": "markdown",
   "metadata": {},
   "source": [
    "### accuracy,loss"
   ]
  },
  {
   "cell_type": "code",
   "execution_count": 9,
   "metadata": {},
   "outputs": [],
   "source": [
    "def L2_regularization(weights,data_size,lambda_):\n",
    "    sq_sum = 0\n",
    "    for i in range(1,len(weights)):\n",
    "        sq_sum+=np.sum(np.square(weights[i]))\n",
    "    return (lambda_/(2*data_size))*sq_sum\n",
    "    \n",
    "def loss_calculation(weights,y,exp_y,loss,L2_lamb):\n",
    "    size_of_data = y.shape[1]\n",
    "    validation_loss=0\n",
    "    if loss=='mean_squared_error':\n",
    "        p_x=(y-exp_y)**2\n",
    "        validation_loss= 0.5 * np.sum(p_x)/size_of_data\n",
    "    else:\n",
    "        epsilon = 1e-9\n",
    "        p_x= exp_y*np.log(y+epsilon)\n",
    "        validation_loss= -np.sum(p_x)/size_of_data\n",
    "    \n",
    "    # L2_regulaization\n",
    "    validation_loss = validation_loss + L2_regularization(weights,size_of_data,L2_lamb)\n",
    "    return validation_loss\n",
    "\n",
    "def accuracy_calculation(y,predicted_y):\n",
    "    if len(y) != len(predicted_y):\n",
    "        raise ValueError(\"Lengths of y and predicted_y must be the same\")\n",
    "\n",
    "    # Calculate the number of correct predictions\n",
    "    correct_predictions = sum(1 for true_label, pred_label in zip(y, predicted_y) if true_label == pred_label)\n",
    "\n",
    "    # Calculate the total number of predictions\n",
    "    total_predictions = len(y)\n",
    "\n",
    "    # Calculate accuracy\n",
    "    accuracy = (correct_predictions / total_predictions) * 100\n",
    "\n",
    "    return accuracy"
   ]
  },
  {
   "cell_type": "markdown",
   "metadata": {
    "id": "WI4StwT2MD85"
   },
   "source": [
    "## Optimizer"
   ]
  },
  {
   "cell_type": "code",
   "execution_count": 10,
   "metadata": {
    "id": "YdH8lFBB698B"
   },
   "outputs": [],
   "source": [
    "def updateSGDParameters(weights,biases,gradients_W,gradients_B,eta,totalLayers,L2_lamb):\n",
    "    gradients_B,gradients_W=np.array(gradients_B,dtype=object),np.array(gradients_W,dtype=object)\n",
    "    currentLayer = 1\n",
    "    while(currentLayer!=totalLayers+1):\n",
    "        weights[currentLayer]+=-eta*gradients_W[currentLayer]\n",
    "        weights[currentLayer]+=-(eta * L2_lamb * weights[currentLayer])\n",
    "        biases[currentLayer]+=-eta*gradients_B[currentLayer]\n",
    "        currentLayer+=1\n",
    "    return weights,biases\n",
    "\n",
    "\n",
    "def updateMomentumParameters(weights, biases, gradients_B,gradients_W, beta, previous_updates_W,previous_updates_B,eta,totalLayers,L2_lamb):\n",
    "    gradients_B,gradients_W=np.array(gradients_B,dtype=object),np.array(gradients_W,dtype=object)\n",
    "    currentLayer=1\n",
    "    while(currentLayer!=totalLayers+1):\n",
    "        previous_updates_W[currentLayer]=beta*previous_updates_W[currentLayer]\n",
    "        previous_updates_W[currentLayer]+=(1-beta)*gradients_W[currentLayer]\n",
    "        previous_updates_B[currentLayer]=beta*previous_updates_B[currentLayer]\n",
    "        previous_updates_B[currentLayer]=previous_updates_B[currentLayer]+(1-beta)*gradients_B[currentLayer]\n",
    "        weights[currentLayer]-=eta*previous_updates_W[currentLayer]+(eta * L2_lamb * weights[currentLayer])\n",
    "        biases[currentLayer]-=eta*previous_updates_B[currentLayer]\n",
    "        currentLayer+=1\n",
    "    return weights,biases,previous_updates_W,previous_updates_B\n",
    "    \n",
    "def util_(x):\n",
    "    return 1/np.exp(x)\n",
    "def updateAdamParameter(weights, biases, gradients_B,gradients_W,eta, m_W,m_B,v_W,v_B,t,totalLayers,L2_lamb,beta1,beta2,epsilon):\n",
    "    gradients_B,gradients_W=np.array(gradients_B,dtype=object),np.array(gradients_W,dtype=object)\n",
    "    currentLayer=1\n",
    "    while(currentLayer<totalLayers+1):\n",
    "        m_dw=beta1*m_W[currentLayer]\n",
    "        m_dw+=(1-beta1)*gradients_W[currentLayer]\n",
    "        v_dw=beta2*v_W[currentLayer]\n",
    "        v_dw+=(1-beta2)*(gradients_W[currentLayer]**2)\n",
    "        \n",
    "        m_W_hat=m_dw/(1.0 -beta1**t)\n",
    "        v_W_hat=v_dw/(1.0 -beta2**t)\n",
    "        \n",
    "        v_W[currentLayer]=v_dw\n",
    "        m_W[currentLayer]=m_dw\n",
    "        t1=util_(m_W[currentLayer])\n",
    "        m_db=beta1*m_B[currentLayer]+(1-beta1)*gradients_B[currentLayer]\n",
    "        v_db=beta2*v_B[currentLayer]+(1-beta2)*(gradients_B[currentLayer]**2)\n",
    "        # print(np.square(gradients_B[currentLayer]))\n",
    "        m_B_hat=m_db/(1.0 -beta1**t)\n",
    "        v_B_hat=v_db/(1.0 -beta2**t)\n",
    "        # print(weights)\n",
    "        weights[currentLayer]+=-(eta*m_W_hat)/((v_W_hat+epsilon)**0.5)-(eta * L2_lamb * weights[currentLayer])\n",
    "        biases[currentLayer]+=-(eta*m_B_hat)/(v_B_hat+epsilon)**0.5\n",
    "        \n",
    "        # print(weights)\n",
    "        # print(biases)\n",
    "        \n",
    "        v_B[currentLayer]=v_db\n",
    "        m_B[currentLayer]=m_db\n",
    "        # print(v_db)\n",
    "        # print(m_db)\n",
    "        currentLayer+=1\n",
    "    t=t+1\n",
    "    return weights,biases,m_W,m_B,v_W,v_B,t\n",
    "def update(x):\n",
    "    return np.array(x,dtype=object)\n",
    "\n",
    "def rmsprop_params_update(weights, biases, gradients_B,gradients_W, beta,eta, W_v,B_v,L,L2_lamb):\n",
    "    gradients_B=update(gradients_B)\n",
    "    gradients_W=update(gradients_W)\n",
    "    currentLayer=1\n",
    "    while(currentLayer<L+1):\n",
    "        v_dw= beta*W_v[currentLayer]+gradients_W[currentLayer]*gradients_W[currentLayer]\n",
    "        v_db= beta*B_v[currentLayer]+gradients_B[currentLayer]*gradients_B[currentLayer]\n",
    "        weights[currentLayer]+=-(eta*(gradients_W[currentLayer]))/((v_dw)+1e-4)**0.5-(eta * L2_lamb * weights[currentLayer])\n",
    "        biases[currentLayer]+=-(eta*(gradients_B[currentLayer]))/((v_db)+1e-4)**0.5\n",
    "        W_v[currentLayer]=v_dw\n",
    "        B_v[currentLayer]=v_db\n",
    "        currentLayer+=1\n",
    "    return weights,biases,W_v,B_v\n"
   ]
  },
  {
   "cell_type": "markdown",
   "metadata": {
    "id": "K7hmUF-x698F"
   },
   "source": [
    "### LEARNING PARAMETERS"
   ]
  },
  {
   "cell_type": "code",
   "execution_count": 11,
   "metadata": {
    "id": "bx4cOoKv698G"
   },
   "outputs": [],
   "source": [
    "def learning_params(hidden_layers,neuron,training_data,training_label,x_val,y_val,learning_algorithm,eta,epochs,BS,activation,init_method,L2_lamb,momentum=0.9 ,beta=0.9 ,beta1=0.9 ,beta2=0.99 ,epsilon=0.00001,loss=\"cross_entropy\"):\n",
    "    global my_models\n",
    "    count=1\n",
    "    predicted_y=[]\n",
    "    L=hidden_layers+1\n",
    "    neurons=[neuron]*(L)\n",
    "    neurons[0] = training_data.shape[0]\n",
    "    neurons.append(10)\n",
    "    exp_y=encode_y(training_label)\n",
    "    exp_y_val=encode_y(y_val)\n",
    "    # print(exp_y.shape)\n",
    "    weights,biases,previous_updates_W,previous_updates_B=initialize_params(init_method,hidden_layers,neurons)\n",
    "    epoch_train_loss=list()\n",
    "    epoch_val_loss=list()\n",
    "    acc_val=list()\n",
    "    acc_train=list()\n",
    "    t=1\n",
    "    v_W = np.copy(previous_updates_W)\n",
    "    m_W = np.copy(previous_updates_W)\n",
    "    v_B = np.copy(previous_updates_B)\n",
    "    m_B = np.copy(previous_updates_B)\n",
    "    # print(\"total epochs\",epochs)\n",
    "    # print(\"learn\",training_data.shape)\n",
    "    for count in range(1,epochs+1):\n",
    "        # print(\"current epoch : \", count)\n",
    "        for i in range(0,training_data.shape[1],BS):\n",
    "            mini_batch=training_data[:,i:i+BS]\n",
    "            if learning_algorithm=='momentum':\n",
    "                output,post_act,pre_act=FeedForwardNetwork(weights,biases,L,mini_batch,activation)\n",
    "                gradients_W,gradients_B=BackPropogation(weights,L,post_act,pre_act,exp_y[:,i:i+BS],output,activation,loss)\n",
    "                weights,biases,previous_updates_W,previous_updates_B=updateMomentumParameters(weights, biases, gradients_B,gradients_W, momentum, previous_updates_W,previous_updates_B,eta,L,L2_lamb)\n",
    "            elif learning_algorithm=='nag':\n",
    "                W_look_ahead=weights-(beta)*previous_updates_W\n",
    "                B_look_ahead=biases-(beta)*previous_updates_B\n",
    "                output,post_act,pre_act=FeedForwardNetwork(W_look_ahead,B_look_ahead,L,mini_batch,activation)\n",
    "                gradients_W,gradients_B=BackPropogation(W_look_ahead,L,post_act,pre_act,exp_y[:,i:i+BS],output,activation,loss)\n",
    "                weights,biases,previous_updates_W,previous_updates_B=updateMomentumParameters(weights,biases, gradients_B,gradients_W, beta, previous_updates_W,previous_updates_B,eta,L,L2_lamb)\n",
    "            elif learning_algorithm=='adam':\n",
    "                output,post_act,pre_act=FeedForwardNetwork(weights,biases,L,mini_batch,activation)\n",
    "                gradients_W,gradients_B=BackPropogation(weights,L,post_act,pre_act,exp_y[:,i:i+BS],output,activation,loss)\n",
    "                weights,biases,m_W,m_B,v_W,v_B,t= updateAdamParameter(weights, biases, gradients_B,gradients_W,eta, m_W,m_B,v_W,v_B, t,L,L2_lamb,beta1,beta2,epsilon)\n",
    "            elif learning_algorithm=='nadam':\n",
    "                W_look_ahead=weights-(beta)*previous_updates_W\n",
    "                B_look_ahead=biases-(beta)*previous_updates_B\n",
    "                output,post_act,pre_act=FeedForwardNetwork(W_look_ahead,B_look_ahead,L,mini_batch,activation)\n",
    "                gradients_W,gradients_B=BackPropogation(W_look_ahead,L,post_act,pre_act,exp_y[:,i:i+BS],output,activation,loss)\n",
    "                weights,biases,m_W,m_B,v_W,v_B,t= updateAdamParameter(weights, biases, gradients_B,gradients_W,eta, m_W,m_B,v_W,v_B, t,L,L2_lamb,beta1,beta2,epsilon)\n",
    "            elif learning_algorithm=='sgd':\n",
    "                output,post_act,pre_act=FeedForwardNetwork(weights,biases,L,mini_batch,activation)\n",
    "                gradients_W,gradients_B=BackPropogation(weights,L,post_act,pre_act,exp_y[:,i:i+BS],output,activation,loss)\n",
    "                weights,biases=updateSGDParameters(weights,biases,gradients_W,gradients_B,eta,L,L2_lamb)\n",
    "            else:\n",
    "                output,post_act,pre_act=FeedForwardNetwork(weights,biases,L,mini_batch,activation)\n",
    "                gradients_W,gradients_B=BackPropogation(weights,L,post_act,pre_act,exp_y[:,i:i+BS],output,activation,loss)\n",
    "                weights,biases,previous_updates_W,previous_updates_B = rmsprop_params_update(weights, biases, gradients_B,gradients_W, beta,eta, previous_updates_W,previous_updates_B,L,L2_lamb)\n",
    "        \n",
    "        full_output_val,hl_val,a_val=FeedForwardNetwork(weights,biases,L,x_val,activation)   \n",
    "        full_output_train,hl_train,a_train=FeedForwardNetwork(weights,biases,L,training_data,activation)\n",
    "\n",
    "        training_loss=loss_calculation(weights,full_output_train,exp_y,loss,L2_lamb)\n",
    "        validation_loss=loss_calculation(weights,full_output_val,exp_y_val,loss,L2_lamb)\n",
    "        acc_train.append(accuracy_calculation(training_label,np.argmax(full_output_train,axis=0)))\n",
    "        acc_val.append(accuracy_calculation(y_val,np.argmax(full_output_val,axis=0)))\n",
    "        epoch_val_loss.append(validation_loss)\n",
    "        epoch_train_loss.append(training_loss)\n",
    "        \n",
    "    # print(type(weights),type(biases),type(epoch_train_loss),type(epoch_val_loss),type(acc_train),type(acc_val))\n",
    "    return weights,biases,epoch_train_loss,epoch_val_loss,acc_train,acc_val"
   ]
  },
  {
   "cell_type": "code",
   "execution_count": 14,
   "metadata": {},
   "outputs": [],
   "source": [
    "different_configuration_runs = []\n",
    "def run_sweeps(train_x,train_y,validation_x,validation_y):\n",
    "\n",
    "    # config = {\n",
    "    #         \"project\":\"final_version\",\n",
    "    #         \"method\": 'random',\n",
    "    #         \"metric\": {\n",
    "    #         'name': 'acc',\n",
    "    #         'goal': 'maximize'\n",
    "    #         },\n",
    "    #         'parameters' :{\n",
    "    #         \"activation\": {\"values\":[\"ReLU\"]},\n",
    "    #         \"weight_init\":{\"values\":[\"xavier\"]},\n",
    "    #         \"BS\": {\"values\":[16]},\n",
    "    #         \"L2_lamb\":{\"values\":[0]},\n",
    "    #         \"eta\": {\"values\":[1e-3]},\n",
    "    #         \"hidden_layers\": {\"values\":[3]},\n",
    "    #         \"learning_algorithm\": {\"values\":[\"nag\"]},\n",
    "    #         \"neurons\": {\"values\": [128]},\n",
    "    #         \"epoch\": {\"values\":[10]}\n",
    "    #         }\n",
    "    # }\n",
    "    config = {\n",
    "        \"project\":\"final_version\",\n",
    "        \"method\": 'bayes',\n",
    "        \"metric\": {\n",
    "        'name': 'acc',\n",
    "        'goal': 'maximize'\n",
    "        },\n",
    "        'parameters' :{\n",
    "        \"activation\": {\"values\":[\"tanh\",\"ReLU\",\"sigmoid\"]},\n",
    "        \"weight_init\":{\"values\":[\"random\",\"xavier\"]},\n",
    "        \"BS\": {\"values\":[16,32,64]},\n",
    "        \"L2_lamb\":{\"values\":[0,0.0005,0.5]},\n",
    "        \"eta\": {\"values\":[1e-3,1e-4]},\n",
    "        \"hidden_layers\": {\"values\":[3,4,5]},\n",
    "        \"learning_algorithm\": {\"values\":[\"momentum\",\"sgd\",\"nag\",\"rmsprop\",\"nadam\",\"adam\"]},\n",
    "        \"neurons\": {\"values\": [32,64,128]},\n",
    "        \"epoch\": {\"values\":[5,10]}\n",
    "        }\n",
    "    }\n",
    "\n",
    "    def training():\n",
    "        wandb.init()\n",
    "        weights,biases,epoch_train_loss,epoch_val_loss,training_accuracy,acc_val=learning_params(wandb.config.hidden_layers,wandb.config.neurons,train_x,train_y,validation_x,validation_y,wandb.config.learning_algorithm,wandb.config.eta,wandb.config.epoch,wandb.config.BS,wandb.config.activation,wandb.config.weight_init,wandb.config.L2_lamb)\n",
    "        for i in range(len(epoch_train_loss)):\n",
    "            wandb.log({\"accuracy\":training_accuracy[i]})\n",
    "            wandb.log({\"val_acc\":acc_val[i]})\n",
    "            wandb.log({\"epoch\": (i+1)})\n",
    "            wandb.log({\"loss\":epoch_train_loss[i]})\n",
    "            wandb.log({\"val_loss\":epoch_val_loss[i]})\n",
    "            \n",
    "        different_configuration_runs.append([weights,biases,wandb.config.hidden_layers,wandb.config.neurons,wandb,wandb.config.learning_algorithm,wandb.config.eta,wandb.config.epoch,wandb.config.BS,wandb.config.activation,wandb.config.weight_init,wandb.config.L2_lamb,acc_val[-1]])\n",
    "        wandb.log({\"acc\":acc_val[-1]})\n",
    "        wandb.run.name = 'hl_'+str(wandb.config.hidden_layers)+\"_bs_\"+str(wandb.config.BS)+\"_ac_\"+str(wandb.config.activation)\n",
    "        wandb.run.save(\"end\")\n",
    "        wandb.run.finish()\n",
    "    sweep_id=wandb.sweep(config,project=\"final_version\")\n",
    "    wandb.agent(sweep_id,function=training,count=10)"
   ]
  },
  {
   "attachments": {},
   "cell_type": "markdown",
   "metadata": {},
   "source": [
    "## Confusion Matrix"
   ]
  },
  {
   "cell_type": "code",
   "execution_count": 13,
   "metadata": {},
   "outputs": [],
   "source": [
    "def log_confusion_mat():\n",
    "    wandb.login(key = \"67fcf10073b0d1bfeee44a1e4bd6f3eb5b674f8e\")\n",
    "    wandb.init(project=\"final_version-mat\",entity=\"cs23m055\")\n",
    "    _,_,train_x,train_y,validation_x,validation_y,test_data,test_label=collect_data()\n",
    "    best_acc=-1\n",
    "    best_config=None\n",
    "    if(len(different_configuration_runs)):\n",
    "        for i in range(len(different_configuration_runs)):\n",
    "            if(best_acc<different_configuration_runs[i][-1]):\n",
    "                best_acc=different_configuration_runs[i][-1]\n",
    "                best_config = different_configuration_runs[i]\n",
    "        weights = best_config[0]\n",
    "        biases = best_config[1]\n",
    "        hiddenLayers = best_config[2]\n",
    "        activation = best_config[-4]\n",
    "        if(best_acc<70):\n",
    "            hiddenLayers=6\n",
    "            activation=\"ReLU\"\n",
    "            weights,biases,epoch_train_loss,epoch_val_loss,training_accuracy,acc_val=learning_params(hidden_layers=6,neuron=64,training_data=train_x,training_label=train_y,x_val=validation_x,y_val=validation_y,learning_algorithm=\"nadam\",eta=0.001,epochs=10,BS=32,activation=\"ReLU\",init_method=\"xavier\",L2_lamb=0.0005,momentum=0.9 ,beta=0.9 ,beta1=0.9 ,beta2=0.99 ,epsilon=0.00001)\n",
    "    else:\n",
    "        hiddenLayers=6\n",
    "        activation=\"ReLU\"\n",
    "        weights,biases,epoch_train_loss,epoch_val_loss,training_accuracy,acc_val=learning_params(hidden_layers=6,neuron=64,training_data=train_x,training_label=train_y,x_val=validation_x,y_val=validation_y,learning_algorithm=\"nadam\",eta=0.001,epochs=10,BS=32,activation=\"ReLU\",init_method=\"xavier\",L2_lamb=0.0005,momentum=0.9 ,beta=0.9 ,beta1=0.9 ,beta2=0.99 ,epsilon=0.00001)\n",
    "        \n",
    "    \n",
    "    L=hiddenLayers+1\n",
    "    print(\"activation function :\",activation,\"Hidden Layers :\",hiddenLayers)\n",
    "    full_output_test,_,_=FeedForwardNetwork(weights,biases,L,test_data,activation)\n",
    "    predicted_y=np.argmax(full_output_test,axis=0)\n",
    "    predicted_y=update_type(predicted_y)\n",
    "    acc_test=accuracy_calculation(test_label,predicted_y)\n",
    "    pred_y=predicted_y\n",
    "    # print(pred_y.shape)\n",
    "    # print(test_label.shape)\n",
    "    pr_y=[]\n",
    "    true_y=[]\n",
    "    for i in range(pred_y.shape[0]):\n",
    "        pr_y.append(pred_y[i])\n",
    "        true_y.append(test_label[i])\n",
    "    # print(len(predicted_y))\n",
    "    # print(predicted_y)\n",
    "    # print(pred_y)\n",
    "    classes = np.array([\"T-shirt/top\",\"Trouser\",\"Pullover\",\"Dress\",\"Coat\",\"Sandal\",\"Shirt\",\"Sneaker\",\"Bag\",\"Boot\"])\n",
    "    conf= metrics.confusion_matrix(pr_y,true_y)\n",
    "    cm_display = metrics.ConfusionMatrixDisplay(confusion_matrix = conf,display_labels=classes)\n",
    "    fig, ax = plt.subplots(figsize=(15,15))\n",
    "    cm_display.plot(ax=ax)\n",
    "    wandb.log({\"confusion_matrix\":plt})\n",
    "    wandb.run.name = \"Confusion Matrix\"\n",
    "    wandb.run.save(\"end\")\n",
    "    wandb.run.finish()\n",
    "    return acc_test"
   ]
  },
  {
   "cell_type": "markdown",
   "metadata": {},
   "source": [
    "## Main functions"
   ]
  },
  {
   "cell_type": "code",
   "execution_count": null,
   "metadata": {},
   "outputs": [
    {
     "name": "stdout",
     "output_type": "stream",
     "text": [
      "collected\n",
      "Create sweep with ID: iyvpzx74\n",
      "Sweep URL: https://wandb.ai/cs23m055_assignment_1/final_version/sweeps/iyvpzx74\n"
     ]
    },
    {
     "name": "stderr",
     "output_type": "stream",
     "text": [
      "\u001b[34m\u001b[1mwandb\u001b[0m: Agent Starting Run: m883ykgx with config:\n",
      "\u001b[34m\u001b[1mwandb\u001b[0m: \tBS: 16\n",
      "\u001b[34m\u001b[1mwandb\u001b[0m: \tL2_lamb: 0\n",
      "\u001b[34m\u001b[1mwandb\u001b[0m: \tactivation: sigmoid\n",
      "\u001b[34m\u001b[1mwandb\u001b[0m: \tepoch: 5\n",
      "\u001b[34m\u001b[1mwandb\u001b[0m: \teta: 0.001\n",
      "\u001b[34m\u001b[1mwandb\u001b[0m: \thidden_layers: 3\n",
      "\u001b[34m\u001b[1mwandb\u001b[0m: \tlearning_algorithm: momentum\n",
      "\u001b[34m\u001b[1mwandb\u001b[0m: \tneurons: 32\n",
      "\u001b[34m\u001b[1mwandb\u001b[0m: \tweight_init: random\n"
     ]
    },
    {
     "data": {
      "text/html": [
       "Tracking run with wandb version 0.16.4"
      ],
      "text/plain": [
       "<IPython.core.display.HTML object>"
      ]
     },
     "metadata": {},
     "output_type": "display_data"
    },
    {
     "data": {
      "text/html": [
       "Run data is saved locally in <code>M:\\Practice\\Semester-2\\Deep Learning\\Assignments\\miscelleanous\\sn\\wandb\\run-20240317_221814-m883ykgx</code>"
      ],
      "text/plain": [
       "<IPython.core.display.HTML object>"
      ]
     },
     "metadata": {},
     "output_type": "display_data"
    },
    {
     "data": {
      "text/html": [
       "Syncing run <strong><a href='https://wandb.ai/cs23m055_assignment_1/final_version/runs/m883ykgx' target=\"_blank\">visionary-sweep-1</a></strong> to <a href='https://wandb.ai/cs23m055_assignment_1/final_version' target=\"_blank\">Weights & Biases</a> (<a href='https://wandb.me/run' target=\"_blank\">docs</a>)<br/>Sweep page: <a href='https://wandb.ai/cs23m055_assignment_1/final_version/sweeps/iyvpzx74' target=\"_blank\">https://wandb.ai/cs23m055_assignment_1/final_version/sweeps/iyvpzx74</a>"
      ],
      "text/plain": [
       "<IPython.core.display.HTML object>"
      ]
     },
     "metadata": {},
     "output_type": "display_data"
    },
    {
     "data": {
      "text/html": [
       " View project at <a href='https://wandb.ai/cs23m055_assignment_1/final_version' target=\"_blank\">https://wandb.ai/cs23m055_assignment_1/final_version</a>"
      ],
      "text/plain": [
       "<IPython.core.display.HTML object>"
      ]
     },
     "metadata": {},
     "output_type": "display_data"
    },
    {
     "data": {
      "text/html": [
       " View sweep at <a href='https://wandb.ai/cs23m055_assignment_1/final_version/sweeps/iyvpzx74' target=\"_blank\">https://wandb.ai/cs23m055_assignment_1/final_version/sweeps/iyvpzx74</a>"
      ],
      "text/plain": [
       "<IPython.core.display.HTML object>"
      ]
     },
     "metadata": {},
     "output_type": "display_data"
    },
    {
     "data": {
      "text/html": [
       " View run at <a href='https://wandb.ai/cs23m055_assignment_1/final_version/runs/m883ykgx' target=\"_blank\">https://wandb.ai/cs23m055_assignment_1/final_version/runs/m883ykgx</a>"
      ],
      "text/plain": [
       "<IPython.core.display.HTML object>"
      ]
     },
     "metadata": {},
     "output_type": "display_data"
    },
    {
     "data": {
      "text/html": [
       "<style>\n",
       "    table.wandb td:nth-child(1) { padding: 0 10px; text-align: left ; width: auto;} td:nth-child(2) {text-align: left ; width: 100%}\n",
       "    .wandb-row { display: flex; flex-direction: row; flex-wrap: wrap; justify-content: flex-start; width: 100% }\n",
       "    .wandb-col { display: flex; flex-direction: column; flex-basis: 100%; flex: 1; padding: 10px; }\n",
       "    </style>\n",
       "<div class=\"wandb-row\"><div class=\"wandb-col\"><h3>Run history:</h3><br/><table class=\"wandb\"><tr><td>acc</td><td>▁</td></tr><tr><td>accuracy</td><td>▁▁▁▁▁</td></tr><tr><td>epoch</td><td>▁▃▅▆█</td></tr><tr><td>loss</td><td>█▆▄▃▁</td></tr><tr><td>val_acc</td><td>▁▁▁▁▁</td></tr><tr><td>val_loss</td><td>█▆▄▃▁</td></tr></table><br/></div><div class=\"wandb-col\"><h3>Run summary:</h3><br/><table class=\"wandb\"><tr><td>acc</td><td>11.1</td></tr><tr><td>accuracy</td><td>11.25185</td></tr><tr><td>epoch</td><td>5</td></tr><tr><td>loss</td><td>2.3023</td></tr><tr><td>val_acc</td><td>11.1</td></tr><tr><td>val_loss</td><td>2.30298</td></tr></table><br/></div></div>"
      ],
      "text/plain": [
       "<IPython.core.display.HTML object>"
      ]
     },
     "metadata": {},
     "output_type": "display_data"
    },
    {
     "data": {
      "text/html": [
       " View run <strong style=\"color:#cdcd00\">visionary-sweep-1</strong> at: <a href='https://wandb.ai/cs23m055_assignment_1/final_version/runs/m883ykgx' target=\"_blank\">https://wandb.ai/cs23m055_assignment_1/final_version/runs/m883ykgx</a><br/>Synced 4 W&B file(s), 0 media file(s), 0 artifact file(s) and 0 other file(s)"
      ],
      "text/plain": [
       "<IPython.core.display.HTML object>"
      ]
     },
     "metadata": {},
     "output_type": "display_data"
    },
    {
     "data": {
      "text/html": [
       "Find logs at: <code>.\\wandb\\run-20240317_221814-m883ykgx\\logs</code>"
      ],
      "text/plain": [
       "<IPython.core.display.HTML object>"
      ]
     },
     "metadata": {},
     "output_type": "display_data"
    },
    {
     "name": "stderr",
     "output_type": "stream",
     "text": [
      "\u001b[34m\u001b[1mwandb\u001b[0m: Agent Starting Run: ec321d0x with config:\n",
      "\u001b[34m\u001b[1mwandb\u001b[0m: \tBS: 32\n",
      "\u001b[34m\u001b[1mwandb\u001b[0m: \tL2_lamb: 0.0005\n",
      "\u001b[34m\u001b[1mwandb\u001b[0m: \tactivation: ReLU\n",
      "\u001b[34m\u001b[1mwandb\u001b[0m: \tepoch: 10\n",
      "\u001b[34m\u001b[1mwandb\u001b[0m: \teta: 0.001\n",
      "\u001b[34m\u001b[1mwandb\u001b[0m: \thidden_layers: 4\n",
      "\u001b[34m\u001b[1mwandb\u001b[0m: \tlearning_algorithm: adam\n",
      "\u001b[34m\u001b[1mwandb\u001b[0m: \tneurons: 32\n",
      "\u001b[34m\u001b[1mwandb\u001b[0m: \tweight_init: random\n"
     ]
    },
    {
     "data": {
      "text/html": [
       "Tracking run with wandb version 0.16.4"
      ],
      "text/plain": [
       "<IPython.core.display.HTML object>"
      ]
     },
     "metadata": {},
     "output_type": "display_data"
    },
    {
     "data": {
      "text/html": [
       "Run data is saved locally in <code>M:\\Practice\\Semester-2\\Deep Learning\\Assignments\\miscelleanous\\sn\\wandb\\run-20240317_221939-ec321d0x</code>"
      ],
      "text/plain": [
       "<IPython.core.display.HTML object>"
      ]
     },
     "metadata": {},
     "output_type": "display_data"
    },
    {
     "data": {
      "text/html": [
       "Syncing run <strong><a href='https://wandb.ai/cs23m055_assignment_1/final_version/runs/ec321d0x' target=\"_blank\">grateful-sweep-2</a></strong> to <a href='https://wandb.ai/cs23m055_assignment_1/final_version' target=\"_blank\">Weights & Biases</a> (<a href='https://wandb.me/run' target=\"_blank\">docs</a>)<br/>Sweep page: <a href='https://wandb.ai/cs23m055_assignment_1/final_version/sweeps/iyvpzx74' target=\"_blank\">https://wandb.ai/cs23m055_assignment_1/final_version/sweeps/iyvpzx74</a>"
      ],
      "text/plain": [
       "<IPython.core.display.HTML object>"
      ]
     },
     "metadata": {},
     "output_type": "display_data"
    },
    {
     "data": {
      "text/html": [
       " View project at <a href='https://wandb.ai/cs23m055_assignment_1/final_version' target=\"_blank\">https://wandb.ai/cs23m055_assignment_1/final_version</a>"
      ],
      "text/plain": [
       "<IPython.core.display.HTML object>"
      ]
     },
     "metadata": {},
     "output_type": "display_data"
    },
    {
     "data": {
      "text/html": [
       " View sweep at <a href='https://wandb.ai/cs23m055_assignment_1/final_version/sweeps/iyvpzx74' target=\"_blank\">https://wandb.ai/cs23m055_assignment_1/final_version/sweeps/iyvpzx74</a>"
      ],
      "text/plain": [
       "<IPython.core.display.HTML object>"
      ]
     },
     "metadata": {},
     "output_type": "display_data"
    },
    {
     "data": {
      "text/html": [
       " View run at <a href='https://wandb.ai/cs23m055_assignment_1/final_version/runs/ec321d0x' target=\"_blank\">https://wandb.ai/cs23m055_assignment_1/final_version/runs/ec321d0x</a>"
      ],
      "text/plain": [
       "<IPython.core.display.HTML object>"
      ]
     },
     "metadata": {},
     "output_type": "display_data"
    },
    {
     "data": {
      "text/html": [
       "<style>\n",
       "    table.wandb td:nth-child(1) { padding: 0 10px; text-align: left ; width: auto;} td:nth-child(2) {text-align: left ; width: 100%}\n",
       "    .wandb-row { display: flex; flex-direction: row; flex-wrap: wrap; justify-content: flex-start; width: 100% }\n",
       "    .wandb-col { display: flex; flex-direction: column; flex-basis: 100%; flex: 1; padding: 10px; }\n",
       "    </style>\n",
       "<div class=\"wandb-row\"><div class=\"wandb-col\"><h3>Run history:</h3><br/><table class=\"wandb\"><tr><td>acc</td><td>▁</td></tr><tr><td>accuracy</td><td>▁▅▇▇▇█████</td></tr><tr><td>epoch</td><td>▁▂▃▃▄▅▆▆▇█</td></tr><tr><td>loss</td><td>█▅▃▂▂▁▁▁▁▁</td></tr><tr><td>val_acc</td><td>▁▅▇▇██████</td></tr><tr><td>val_loss</td><td>█▅▃▂▂▁▁▁▁▁</td></tr></table><br/></div><div class=\"wandb-col\"><h3>Run summary:</h3><br/><table class=\"wandb\"><tr><td>acc</td><td>95.28333</td></tr><tr><td>accuracy</td><td>96.83704</td></tr><tr><td>epoch</td><td>10</td></tr><tr><td>loss</td><td>0.10961</td></tr><tr><td>val_acc</td><td>95.28333</td></tr><tr><td>val_loss</td><td>0.18769</td></tr></table><br/></div></div>"
      ],
      "text/plain": [
       "<IPython.core.display.HTML object>"
      ]
     },
     "metadata": {},
     "output_type": "display_data"
    },
    {
     "data": {
      "text/html": [
       " View run <strong style=\"color:#cdcd00\">grateful-sweep-2</strong> at: <a href='https://wandb.ai/cs23m055_assignment_1/final_version/runs/ec321d0x' target=\"_blank\">https://wandb.ai/cs23m055_assignment_1/final_version/runs/ec321d0x</a><br/>Synced 4 W&B file(s), 0 media file(s), 0 artifact file(s) and 0 other file(s)"
      ],
      "text/plain": [
       "<IPython.core.display.HTML object>"
      ]
     },
     "metadata": {},
     "output_type": "display_data"
    },
    {
     "data": {
      "text/html": [
       "Find logs at: <code>.\\wandb\\run-20240317_221939-ec321d0x\\logs</code>"
      ],
      "text/plain": [
       "<IPython.core.display.HTML object>"
      ]
     },
     "metadata": {},
     "output_type": "display_data"
    },
    {
     "name": "stderr",
     "output_type": "stream",
     "text": [
      "\u001b[34m\u001b[1mwandb\u001b[0m: Agent Starting Run: y193emro with config:\n",
      "\u001b[34m\u001b[1mwandb\u001b[0m: \tBS: 64\n",
      "\u001b[34m\u001b[1mwandb\u001b[0m: \tL2_lamb: 0.5\n",
      "\u001b[34m\u001b[1mwandb\u001b[0m: \tactivation: tanh\n",
      "\u001b[34m\u001b[1mwandb\u001b[0m: \tepoch: 5\n",
      "\u001b[34m\u001b[1mwandb\u001b[0m: \teta: 0.001\n",
      "\u001b[34m\u001b[1mwandb\u001b[0m: \thidden_layers: 4\n",
      "\u001b[34m\u001b[1mwandb\u001b[0m: \tlearning_algorithm: sgd\n",
      "\u001b[34m\u001b[1mwandb\u001b[0m: \tneurons: 32\n",
      "\u001b[34m\u001b[1mwandb\u001b[0m: \tweight_init: random\n"
     ]
    },
    {
     "data": {
      "text/html": [
       "Tracking run with wandb version 0.16.4"
      ],
      "text/plain": [
       "<IPython.core.display.HTML object>"
      ]
     },
     "metadata": {},
     "output_type": "display_data"
    },
    {
     "data": {
      "text/html": [
       "Run data is saved locally in <code>M:\\Practice\\Semester-2\\Deep Learning\\Assignments\\miscelleanous\\sn\\wandb\\run-20240317_222133-y193emro</code>"
      ],
      "text/plain": [
       "<IPython.core.display.HTML object>"
      ]
     },
     "metadata": {},
     "output_type": "display_data"
    },
    {
     "data": {
      "text/html": [
       "Syncing run <strong><a href='https://wandb.ai/cs23m055_assignment_1/final_version/runs/y193emro' target=\"_blank\">silver-sweep-3</a></strong> to <a href='https://wandb.ai/cs23m055_assignment_1/final_version' target=\"_blank\">Weights & Biases</a> (<a href='https://wandb.me/run' target=\"_blank\">docs</a>)<br/>Sweep page: <a href='https://wandb.ai/cs23m055_assignment_1/final_version/sweeps/iyvpzx74' target=\"_blank\">https://wandb.ai/cs23m055_assignment_1/final_version/sweeps/iyvpzx74</a>"
      ],
      "text/plain": [
       "<IPython.core.display.HTML object>"
      ]
     },
     "metadata": {},
     "output_type": "display_data"
    },
    {
     "data": {
      "text/html": [
       " View project at <a href='https://wandb.ai/cs23m055_assignment_1/final_version' target=\"_blank\">https://wandb.ai/cs23m055_assignment_1/final_version</a>"
      ],
      "text/plain": [
       "<IPython.core.display.HTML object>"
      ]
     },
     "metadata": {},
     "output_type": "display_data"
    },
    {
     "data": {
      "text/html": [
       " View sweep at <a href='https://wandb.ai/cs23m055_assignment_1/final_version/sweeps/iyvpzx74' target=\"_blank\">https://wandb.ai/cs23m055_assignment_1/final_version/sweeps/iyvpzx74</a>"
      ],
      "text/plain": [
       "<IPython.core.display.HTML object>"
      ]
     },
     "metadata": {},
     "output_type": "display_data"
    },
    {
     "data": {
      "text/html": [
       " View run at <a href='https://wandb.ai/cs23m055_assignment_1/final_version/runs/y193emro' target=\"_blank\">https://wandb.ai/cs23m055_assignment_1/final_version/runs/y193emro</a>"
      ],
      "text/plain": [
       "<IPython.core.display.HTML object>"
      ]
     },
     "metadata": {},
     "output_type": "display_data"
    },
    {
     "data": {
      "text/html": [
       "<style>\n",
       "    table.wandb td:nth-child(1) { padding: 0 10px; text-align: left ; width: auto;} td:nth-child(2) {text-align: left ; width: 100%}\n",
       "    .wandb-row { display: flex; flex-direction: row; flex-wrap: wrap; justify-content: flex-start; width: 100% }\n",
       "    .wandb-col { display: flex; flex-direction: column; flex-basis: 100%; flex: 1; padding: 10px; }\n",
       "    </style>\n",
       "<div class=\"wandb-row\"><div class=\"wandb-col\"><h3>Run history:</h3><br/><table class=\"wandb\"><tr><td>acc</td><td>▁</td></tr><tr><td>accuracy</td><td>▁▁▁▁▁</td></tr><tr><td>epoch</td><td>▁▃▅▆█</td></tr><tr><td>loss</td><td>█▄▂▁▁</td></tr><tr><td>val_acc</td><td>▁▁▁▁▁</td></tr><tr><td>val_loss</td><td>█▄▂▁▁</td></tr></table><br/></div><div class=\"wandb-col\"><h3>Run summary:</h3><br/><table class=\"wandb\"><tr><td>acc</td><td>11.1</td></tr><tr><td>accuracy</td><td>11.25185</td></tr><tr><td>epoch</td><td>5</td></tr><tr><td>loss</td><td>2.30127</td></tr><tr><td>val_acc</td><td>11.1</td></tr><tr><td>val_loss</td><td>2.30177</td></tr></table><br/></div></div>"
      ],
      "text/plain": [
       "<IPython.core.display.HTML object>"
      ]
     },
     "metadata": {},
     "output_type": "display_data"
    },
    {
     "data": {
      "text/html": [
       " View run <strong style=\"color:#cdcd00\">silver-sweep-3</strong> at: <a href='https://wandb.ai/cs23m055_assignment_1/final_version/runs/y193emro' target=\"_blank\">https://wandb.ai/cs23m055_assignment_1/final_version/runs/y193emro</a><br/>Synced 4 W&B file(s), 0 media file(s), 0 artifact file(s) and 0 other file(s)"
      ],
      "text/plain": [
       "<IPython.core.display.HTML object>"
      ]
     },
     "metadata": {},
     "output_type": "display_data"
    },
    {
     "data": {
      "text/html": [
       "Find logs at: <code>.\\wandb\\run-20240317_222133-y193emro\\logs</code>"
      ],
      "text/plain": [
       "<IPython.core.display.HTML object>"
      ]
     },
     "metadata": {},
     "output_type": "display_data"
    },
    {
     "name": "stderr",
     "output_type": "stream",
     "text": [
      "\u001b[34m\u001b[1mwandb\u001b[0m: Agent Starting Run: 799hkohh with config:\n",
      "\u001b[34m\u001b[1mwandb\u001b[0m: \tBS: 32\n",
      "\u001b[34m\u001b[1mwandb\u001b[0m: \tL2_lamb: 0\n",
      "\u001b[34m\u001b[1mwandb\u001b[0m: \tactivation: sigmoid\n",
      "\u001b[34m\u001b[1mwandb\u001b[0m: \tepoch: 10\n",
      "\u001b[34m\u001b[1mwandb\u001b[0m: \teta: 0.001\n",
      "\u001b[34m\u001b[1mwandb\u001b[0m: \thidden_layers: 5\n",
      "\u001b[34m\u001b[1mwandb\u001b[0m: \tlearning_algorithm: sgd\n",
      "\u001b[34m\u001b[1mwandb\u001b[0m: \tneurons: 32\n",
      "\u001b[34m\u001b[1mwandb\u001b[0m: \tweight_init: random\n"
     ]
    },
    {
     "data": {
      "text/html": [
       "Tracking run with wandb version 0.16.4"
      ],
      "text/plain": [
       "<IPython.core.display.HTML object>"
      ]
     },
     "metadata": {},
     "output_type": "display_data"
    },
    {
     "data": {
      "text/html": [
       "Run data is saved locally in <code>M:\\Practice\\Semester-2\\Deep Learning\\Assignments\\miscelleanous\\sn\\wandb\\run-20240317_222211-799hkohh</code>"
      ],
      "text/plain": [
       "<IPython.core.display.HTML object>"
      ]
     },
     "metadata": {},
     "output_type": "display_data"
    },
    {
     "data": {
      "text/html": [
       "Syncing run <strong><a href='https://wandb.ai/cs23m055_assignment_1/final_version/runs/799hkohh' target=\"_blank\">silvery-sweep-4</a></strong> to <a href='https://wandb.ai/cs23m055_assignment_1/final_version' target=\"_blank\">Weights & Biases</a> (<a href='https://wandb.me/run' target=\"_blank\">docs</a>)<br/>Sweep page: <a href='https://wandb.ai/cs23m055_assignment_1/final_version/sweeps/iyvpzx74' target=\"_blank\">https://wandb.ai/cs23m055_assignment_1/final_version/sweeps/iyvpzx74</a>"
      ],
      "text/plain": [
       "<IPython.core.display.HTML object>"
      ]
     },
     "metadata": {},
     "output_type": "display_data"
    },
    {
     "data": {
      "text/html": [
       " View project at <a href='https://wandb.ai/cs23m055_assignment_1/final_version' target=\"_blank\">https://wandb.ai/cs23m055_assignment_1/final_version</a>"
      ],
      "text/plain": [
       "<IPython.core.display.HTML object>"
      ]
     },
     "metadata": {},
     "output_type": "display_data"
    },
    {
     "data": {
      "text/html": [
       " View sweep at <a href='https://wandb.ai/cs23m055_assignment_1/final_version/sweeps/iyvpzx74' target=\"_blank\">https://wandb.ai/cs23m055_assignment_1/final_version/sweeps/iyvpzx74</a>"
      ],
      "text/plain": [
       "<IPython.core.display.HTML object>"
      ]
     },
     "metadata": {},
     "output_type": "display_data"
    },
    {
     "data": {
      "text/html": [
       " View run at <a href='https://wandb.ai/cs23m055_assignment_1/final_version/runs/799hkohh' target=\"_blank\">https://wandb.ai/cs23m055_assignment_1/final_version/runs/799hkohh</a>"
      ],
      "text/plain": [
       "<IPython.core.display.HTML object>"
      ]
     },
     "metadata": {},
     "output_type": "display_data"
    },
    {
     "data": {
      "text/html": [
       "<style>\n",
       "    table.wandb td:nth-child(1) { padding: 0 10px; text-align: left ; width: auto;} td:nth-child(2) {text-align: left ; width: 100%}\n",
       "    .wandb-row { display: flex; flex-direction: row; flex-wrap: wrap; justify-content: flex-start; width: 100% }\n",
       "    .wandb-col { display: flex; flex-direction: column; flex-basis: 100%; flex: 1; padding: 10px; }\n",
       "    </style>\n",
       "<div class=\"wandb-row\"><div class=\"wandb-col\"><h3>Run history:</h3><br/><table class=\"wandb\"><tr><td>acc</td><td>▁</td></tr><tr><td>accuracy</td><td>▁▁▁▁▁▁▁▁▁▁</td></tr><tr><td>epoch</td><td>▁▂▃▃▄▅▆▆▇█</td></tr><tr><td>loss</td><td>█▇▆▅▅▄▃▂▂▁</td></tr><tr><td>val_acc</td><td>▁▁▁▁▁▁▁▁▁▁</td></tr><tr><td>val_loss</td><td>█▇▆▆▅▄▃▂▂▁</td></tr></table><br/></div><div class=\"wandb-col\"><h3>Run summary:</h3><br/><table class=\"wandb\"><tr><td>acc</td><td>11.1</td></tr><tr><td>accuracy</td><td>11.25185</td></tr><tr><td>epoch</td><td>10</td></tr><tr><td>loss</td><td>2.30214</td></tr><tr><td>val_acc</td><td>11.1</td></tr><tr><td>val_loss</td><td>2.30296</td></tr></table><br/></div></div>"
      ],
      "text/plain": [
       "<IPython.core.display.HTML object>"
      ]
     },
     "metadata": {},
     "output_type": "display_data"
    },
    {
     "data": {
      "text/html": [
       " View run <strong style=\"color:#cdcd00\">silvery-sweep-4</strong> at: <a href='https://wandb.ai/cs23m055_assignment_1/final_version/runs/799hkohh' target=\"_blank\">https://wandb.ai/cs23m055_assignment_1/final_version/runs/799hkohh</a><br/>Synced 4 W&B file(s), 0 media file(s), 0 artifact file(s) and 0 other file(s)"
      ],
      "text/plain": [
       "<IPython.core.display.HTML object>"
      ]
     },
     "metadata": {},
     "output_type": "display_data"
    },
    {
     "data": {
      "text/html": [
       "Find logs at: <code>.\\wandb\\run-20240317_222211-799hkohh\\logs</code>"
      ],
      "text/plain": [
       "<IPython.core.display.HTML object>"
      ]
     },
     "metadata": {},
     "output_type": "display_data"
    },
    {
     "name": "stderr",
     "output_type": "stream",
     "text": [
      "\u001b[34m\u001b[1mwandb\u001b[0m: Agent Starting Run: ihypwygd with config:\n",
      "\u001b[34m\u001b[1mwandb\u001b[0m: \tBS: 64\n",
      "\u001b[34m\u001b[1mwandb\u001b[0m: \tL2_lamb: 0.5\n",
      "\u001b[34m\u001b[1mwandb\u001b[0m: \tactivation: ReLU\n",
      "\u001b[34m\u001b[1mwandb\u001b[0m: \tepoch: 10\n",
      "\u001b[34m\u001b[1mwandb\u001b[0m: \teta: 0.0001\n",
      "\u001b[34m\u001b[1mwandb\u001b[0m: \thidden_layers: 5\n",
      "\u001b[34m\u001b[1mwandb\u001b[0m: \tlearning_algorithm: adam\n",
      "\u001b[34m\u001b[1mwandb\u001b[0m: \tneurons: 32\n",
      "\u001b[34m\u001b[1mwandb\u001b[0m: \tweight_init: random\n"
     ]
    },
    {
     "data": {
      "text/html": [
       "Tracking run with wandb version 0.16.4"
      ],
      "text/plain": [
       "<IPython.core.display.HTML object>"
      ]
     },
     "metadata": {},
     "output_type": "display_data"
    },
    {
     "data": {
      "text/html": [
       "Run data is saved locally in <code>M:\\Practice\\Semester-2\\Deep Learning\\Assignments\\miscelleanous\\sn\\wandb\\run-20240317_222335-ihypwygd</code>"
      ],
      "text/plain": [
       "<IPython.core.display.HTML object>"
      ]
     },
     "metadata": {},
     "output_type": "display_data"
    },
    {
     "data": {
      "text/html": [
       "Syncing run <strong><a href='https://wandb.ai/cs23m055_assignment_1/final_version/runs/ihypwygd' target=\"_blank\">sweepy-sweep-5</a></strong> to <a href='https://wandb.ai/cs23m055_assignment_1/final_version' target=\"_blank\">Weights & Biases</a> (<a href='https://wandb.me/run' target=\"_blank\">docs</a>)<br/>Sweep page: <a href='https://wandb.ai/cs23m055_assignment_1/final_version/sweeps/iyvpzx74' target=\"_blank\">https://wandb.ai/cs23m055_assignment_1/final_version/sweeps/iyvpzx74</a>"
      ],
      "text/plain": [
       "<IPython.core.display.HTML object>"
      ]
     },
     "metadata": {},
     "output_type": "display_data"
    },
    {
     "data": {
      "text/html": [
       " View project at <a href='https://wandb.ai/cs23m055_assignment_1/final_version' target=\"_blank\">https://wandb.ai/cs23m055_assignment_1/final_version</a>"
      ],
      "text/plain": [
       "<IPython.core.display.HTML object>"
      ]
     },
     "metadata": {},
     "output_type": "display_data"
    },
    {
     "data": {
      "text/html": [
       " View sweep at <a href='https://wandb.ai/cs23m055_assignment_1/final_version/sweeps/iyvpzx74' target=\"_blank\">https://wandb.ai/cs23m055_assignment_1/final_version/sweeps/iyvpzx74</a>"
      ],
      "text/plain": [
       "<IPython.core.display.HTML object>"
      ]
     },
     "metadata": {},
     "output_type": "display_data"
    },
    {
     "data": {
      "text/html": [
       " View run at <a href='https://wandb.ai/cs23m055_assignment_1/final_version/runs/ihypwygd' target=\"_blank\">https://wandb.ai/cs23m055_assignment_1/final_version/runs/ihypwygd</a>"
      ],
      "text/plain": [
       "<IPython.core.display.HTML object>"
      ]
     },
     "metadata": {},
     "output_type": "display_data"
    },
    {
     "data": {
      "text/html": [
       "<style>\n",
       "    table.wandb td:nth-child(1) { padding: 0 10px; text-align: left ; width: auto;} td:nth-child(2) {text-align: left ; width: 100%}\n",
       "    .wandb-row { display: flex; flex-direction: row; flex-wrap: wrap; justify-content: flex-start; width: 100% }\n",
       "    .wandb-col { display: flex; flex-direction: column; flex-basis: 100%; flex: 1; padding: 10px; }\n",
       "    </style>\n",
       "<div class=\"wandb-row\"><div class=\"wandb-col\"><h3>Run history:</h3><br/><table class=\"wandb\"><tr><td>acc</td><td>▁</td></tr><tr><td>accuracy</td><td>▁▁▁▁▁▁▁▁▁▁</td></tr><tr><td>epoch</td><td>▁▂▃▃▄▅▆▆▇█</td></tr><tr><td>loss</td><td>█▅▃▂▁▁▁▁▁▁</td></tr><tr><td>val_acc</td><td>▁▁▁▁▁▁▁▁▁▁</td></tr><tr><td>val_loss</td><td>█▅▃▂▁▁▁▁▁▁</td></tr></table><br/></div><div class=\"wandb-col\"><h3>Run summary:</h3><br/><table class=\"wandb\"><tr><td>acc</td><td>11.1</td></tr><tr><td>accuracy</td><td>11.25185</td></tr><tr><td>epoch</td><td>10</td></tr><tr><td>loss</td><td>2.30115</td></tr><tr><td>val_acc</td><td>11.1</td></tr><tr><td>val_loss</td><td>2.30145</td></tr></table><br/></div></div>"
      ],
      "text/plain": [
       "<IPython.core.display.HTML object>"
      ]
     },
     "metadata": {},
     "output_type": "display_data"
    },
    {
     "data": {
      "text/html": [
       " View run <strong style=\"color:#cdcd00\">sweepy-sweep-5</strong> at: <a href='https://wandb.ai/cs23m055_assignment_1/final_version/runs/ihypwygd' target=\"_blank\">https://wandb.ai/cs23m055_assignment_1/final_version/runs/ihypwygd</a><br/>Synced 4 W&B file(s), 0 media file(s), 0 artifact file(s) and 0 other file(s)"
      ],
      "text/plain": [
       "<IPython.core.display.HTML object>"
      ]
     },
     "metadata": {},
     "output_type": "display_data"
    },
    {
     "data": {
      "text/html": [
       "Find logs at: <code>.\\wandb\\run-20240317_222335-ihypwygd\\logs</code>"
      ],
      "text/plain": [
       "<IPython.core.display.HTML object>"
      ]
     },
     "metadata": {},
     "output_type": "display_data"
    },
    {
     "name": "stderr",
     "output_type": "stream",
     "text": [
      "\u001b[34m\u001b[1mwandb\u001b[0m: Agent Starting Run: 8n1parvi with config:\n",
      "\u001b[34m\u001b[1mwandb\u001b[0m: \tBS: 32\n",
      "\u001b[34m\u001b[1mwandb\u001b[0m: \tL2_lamb: 0\n",
      "\u001b[34m\u001b[1mwandb\u001b[0m: \tactivation: ReLU\n",
      "\u001b[34m\u001b[1mwandb\u001b[0m: \tepoch: 5\n",
      "\u001b[34m\u001b[1mwandb\u001b[0m: \teta: 0.0001\n",
      "\u001b[34m\u001b[1mwandb\u001b[0m: \thidden_layers: 5\n",
      "\u001b[34m\u001b[1mwandb\u001b[0m: \tlearning_algorithm: nadam\n",
      "\u001b[34m\u001b[1mwandb\u001b[0m: \tneurons: 64\n",
      "\u001b[34m\u001b[1mwandb\u001b[0m: \tweight_init: xavier\n"
     ]
    },
    {
     "data": {
      "text/html": [
       "Tracking run with wandb version 0.16.4"
      ],
      "text/plain": [
       "<IPython.core.display.HTML object>"
      ]
     },
     "metadata": {},
     "output_type": "display_data"
    },
    {
     "data": {
      "text/html": [
       "Run data is saved locally in <code>M:\\Practice\\Semester-2\\Deep Learning\\Assignments\\miscelleanous\\sn\\wandb\\run-20240317_222500-8n1parvi</code>"
      ],
      "text/plain": [
       "<IPython.core.display.HTML object>"
      ]
     },
     "metadata": {},
     "output_type": "display_data"
    },
    {
     "data": {
      "text/html": [
       "Syncing run <strong><a href='https://wandb.ai/cs23m055_assignment_1/final_version/runs/8n1parvi' target=\"_blank\">snowy-sweep-6</a></strong> to <a href='https://wandb.ai/cs23m055_assignment_1/final_version' target=\"_blank\">Weights & Biases</a> (<a href='https://wandb.me/run' target=\"_blank\">docs</a>)<br/>Sweep page: <a href='https://wandb.ai/cs23m055_assignment_1/final_version/sweeps/iyvpzx74' target=\"_blank\">https://wandb.ai/cs23m055_assignment_1/final_version/sweeps/iyvpzx74</a>"
      ],
      "text/plain": [
       "<IPython.core.display.HTML object>"
      ]
     },
     "metadata": {},
     "output_type": "display_data"
    },
    {
     "data": {
      "text/html": [
       " View project at <a href='https://wandb.ai/cs23m055_assignment_1/final_version' target=\"_blank\">https://wandb.ai/cs23m055_assignment_1/final_version</a>"
      ],
      "text/plain": [
       "<IPython.core.display.HTML object>"
      ]
     },
     "metadata": {},
     "output_type": "display_data"
    },
    {
     "data": {
      "text/html": [
       " View sweep at <a href='https://wandb.ai/cs23m055_assignment_1/final_version/sweeps/iyvpzx74' target=\"_blank\">https://wandb.ai/cs23m055_assignment_1/final_version/sweeps/iyvpzx74</a>"
      ],
      "text/plain": [
       "<IPython.core.display.HTML object>"
      ]
     },
     "metadata": {},
     "output_type": "display_data"
    },
    {
     "data": {
      "text/html": [
       " View run at <a href='https://wandb.ai/cs23m055_assignment_1/final_version/runs/8n1parvi' target=\"_blank\">https://wandb.ai/cs23m055_assignment_1/final_version/runs/8n1parvi</a>"
      ],
      "text/plain": [
       "<IPython.core.display.HTML object>"
      ]
     },
     "metadata": {},
     "output_type": "display_data"
    },
    {
     "data": {
      "text/html": [
       "<style>\n",
       "    table.wandb td:nth-child(1) { padding: 0 10px; text-align: left ; width: auto;} td:nth-child(2) {text-align: left ; width: 100%}\n",
       "    .wandb-row { display: flex; flex-direction: row; flex-wrap: wrap; justify-content: flex-start; width: 100% }\n",
       "    .wandb-col { display: flex; flex-direction: column; flex-basis: 100%; flex: 1; padding: 10px; }\n",
       "    </style>\n",
       "<div class=\"wandb-row\"><div class=\"wandb-col\"><h3>Run history:</h3><br/><table class=\"wandb\"><tr><td>acc</td><td>▁</td></tr><tr><td>accuracy</td><td>▁▅▆▇█</td></tr><tr><td>epoch</td><td>▁▃▅▆█</td></tr><tr><td>loss</td><td>█▄▃▂▁</td></tr><tr><td>val_acc</td><td>▁▅▆▇█</td></tr><tr><td>val_loss</td><td>█▄▂▂▁</td></tr></table><br/></div><div class=\"wandb-col\"><h3>Run summary:</h3><br/><table class=\"wandb\"><tr><td>acc</td><td>95.6</td></tr><tr><td>accuracy</td><td>96.04444</td></tr><tr><td>epoch</td><td>5</td></tr><tr><td>loss</td><td>0.13634</td></tr><tr><td>val_acc</td><td>95.6</td></tr><tr><td>val_loss</td><td>0.15568</td></tr></table><br/></div></div>"
      ],
      "text/plain": [
       "<IPython.core.display.HTML object>"
      ]
     },
     "metadata": {},
     "output_type": "display_data"
    },
    {
     "data": {
      "text/html": [
       " View run <strong style=\"color:#cdcd00\">snowy-sweep-6</strong> at: <a href='https://wandb.ai/cs23m055_assignment_1/final_version/runs/8n1parvi' target=\"_blank\">https://wandb.ai/cs23m055_assignment_1/final_version/runs/8n1parvi</a><br/>Synced 4 W&B file(s), 0 media file(s), 0 artifact file(s) and 0 other file(s)"
      ],
      "text/plain": [
       "<IPython.core.display.HTML object>"
      ]
     },
     "metadata": {},
     "output_type": "display_data"
    },
    {
     "data": {
      "text/html": [
       "Find logs at: <code>.\\wandb\\run-20240317_222500-8n1parvi\\logs</code>"
      ],
      "text/plain": [
       "<IPython.core.display.HTML object>"
      ]
     },
     "metadata": {},
     "output_type": "display_data"
    },
    {
     "name": "stderr",
     "output_type": "stream",
     "text": [
      "\u001b[34m\u001b[1mwandb\u001b[0m: Agent Starting Run: rbt4bvus with config:\n",
      "\u001b[34m\u001b[1mwandb\u001b[0m: \tBS: 16\n",
      "\u001b[34m\u001b[1mwandb\u001b[0m: \tL2_lamb: 0.0005\n",
      "\u001b[34m\u001b[1mwandb\u001b[0m: \tactivation: ReLU\n",
      "\u001b[34m\u001b[1mwandb\u001b[0m: \tepoch: 10\n",
      "\u001b[34m\u001b[1mwandb\u001b[0m: \teta: 0.0001\n",
      "\u001b[34m\u001b[1mwandb\u001b[0m: \thidden_layers: 3\n",
      "\u001b[34m\u001b[1mwandb\u001b[0m: \tlearning_algorithm: nag\n",
      "\u001b[34m\u001b[1mwandb\u001b[0m: \tneurons: 32\n",
      "\u001b[34m\u001b[1mwandb\u001b[0m: \tweight_init: xavier\n"
     ]
    },
    {
     "data": {
      "text/html": [
       "Tracking run with wandb version 0.16.4"
      ],
      "text/plain": [
       "<IPython.core.display.HTML object>"
      ]
     },
     "metadata": {},
     "output_type": "display_data"
    },
    {
     "data": {
      "text/html": [
       "Run data is saved locally in <code>M:\\Practice\\Semester-2\\Deep Learning\\Assignments\\miscelleanous\\sn\\wandb\\run-20240317_222625-rbt4bvus</code>"
      ],
      "text/plain": [
       "<IPython.core.display.HTML object>"
      ]
     },
     "metadata": {},
     "output_type": "display_data"
    },
    {
     "data": {
      "text/html": [
       "Syncing run <strong><a href='https://wandb.ai/cs23m055_assignment_1/final_version/runs/rbt4bvus' target=\"_blank\">tough-sweep-7</a></strong> to <a href='https://wandb.ai/cs23m055_assignment_1/final_version' target=\"_blank\">Weights & Biases</a> (<a href='https://wandb.me/run' target=\"_blank\">docs</a>)<br/>Sweep page: <a href='https://wandb.ai/cs23m055_assignment_1/final_version/sweeps/iyvpzx74' target=\"_blank\">https://wandb.ai/cs23m055_assignment_1/final_version/sweeps/iyvpzx74</a>"
      ],
      "text/plain": [
       "<IPython.core.display.HTML object>"
      ]
     },
     "metadata": {},
     "output_type": "display_data"
    },
    {
     "data": {
      "text/html": [
       " View project at <a href='https://wandb.ai/cs23m055_assignment_1/final_version' target=\"_blank\">https://wandb.ai/cs23m055_assignment_1/final_version</a>"
      ],
      "text/plain": [
       "<IPython.core.display.HTML object>"
      ]
     },
     "metadata": {},
     "output_type": "display_data"
    },
    {
     "data": {
      "text/html": [
       " View sweep at <a href='https://wandb.ai/cs23m055_assignment_1/final_version/sweeps/iyvpzx74' target=\"_blank\">https://wandb.ai/cs23m055_assignment_1/final_version/sweeps/iyvpzx74</a>"
      ],
      "text/plain": [
       "<IPython.core.display.HTML object>"
      ]
     },
     "metadata": {},
     "output_type": "display_data"
    },
    {
     "data": {
      "text/html": [
       " View run at <a href='https://wandb.ai/cs23m055_assignment_1/final_version/runs/rbt4bvus' target=\"_blank\">https://wandb.ai/cs23m055_assignment_1/final_version/runs/rbt4bvus</a>"
      ],
      "text/plain": [
       "<IPython.core.display.HTML object>"
      ]
     },
     "metadata": {},
     "output_type": "display_data"
    },
    {
     "data": {
      "text/html": [
       "<style>\n",
       "    table.wandb td:nth-child(1) { padding: 0 10px; text-align: left ; width: auto;} td:nth-child(2) {text-align: left ; width: 100%}\n",
       "    .wandb-row { display: flex; flex-direction: row; flex-wrap: wrap; justify-content: flex-start; width: 100% }\n",
       "    .wandb-col { display: flex; flex-direction: column; flex-basis: 100%; flex: 1; padding: 10px; }\n",
       "    </style>\n",
       "<div class=\"wandb-row\"><div class=\"wandb-col\"><h3>Run history:</h3><br/><table class=\"wandb\"><tr><td>acc</td><td>▁</td></tr><tr><td>accuracy</td><td>▁▁▁▁▁▁▁▁▁▁</td></tr><tr><td>epoch</td><td>▁▂▃▃▄▅▆▆▇█</td></tr><tr><td>val_acc</td><td>▁▁▁▁▁▁▁▁▁▁</td></tr></table><br/></div><div class=\"wandb-col\"><h3>Run summary:</h3><br/><table class=\"wandb\"><tr><td>acc</td><td>11.1</td></tr><tr><td>accuracy</td><td>11.25185</td></tr><tr><td>epoch</td><td>10</td></tr><tr><td>loss</td><td>7.410815244723294e+240</td></tr><tr><td>val_acc</td><td>11.1</td></tr><tr><td>val_loss</td><td>6.669733720250965e+241</td></tr></table><br/></div></div>"
      ],
      "text/plain": [
       "<IPython.core.display.HTML object>"
      ]
     },
     "metadata": {},
     "output_type": "display_data"
    },
    {
     "data": {
      "text/html": [
       " View run <strong style=\"color:#cdcd00\">tough-sweep-7</strong> at: <a href='https://wandb.ai/cs23m055_assignment_1/final_version/runs/rbt4bvus' target=\"_blank\">https://wandb.ai/cs23m055_assignment_1/final_version/runs/rbt4bvus</a><br/>Synced 4 W&B file(s), 0 media file(s), 0 artifact file(s) and 0 other file(s)"
      ],
      "text/plain": [
       "<IPython.core.display.HTML object>"
      ]
     },
     "metadata": {},
     "output_type": "display_data"
    },
    {
     "data": {
      "text/html": [
       "Find logs at: <code>.\\wandb\\run-20240317_222625-rbt4bvus\\logs</code>"
      ],
      "text/plain": [
       "<IPython.core.display.HTML object>"
      ]
     },
     "metadata": {},
     "output_type": "display_data"
    },
    {
     "name": "stderr",
     "output_type": "stream",
     "text": [
      "\u001b[34m\u001b[1mwandb\u001b[0m: Agent Starting Run: jwoqelyo with config:\n",
      "\u001b[34m\u001b[1mwandb\u001b[0m: \tBS: 32\n",
      "\u001b[34m\u001b[1mwandb\u001b[0m: \tL2_lamb: 0.5\n",
      "\u001b[34m\u001b[1mwandb\u001b[0m: \tactivation: sigmoid\n",
      "\u001b[34m\u001b[1mwandb\u001b[0m: \tepoch: 5\n",
      "\u001b[34m\u001b[1mwandb\u001b[0m: \teta: 0.0001\n",
      "\u001b[34m\u001b[1mwandb\u001b[0m: \thidden_layers: 5\n",
      "\u001b[34m\u001b[1mwandb\u001b[0m: \tlearning_algorithm: adam\n",
      "\u001b[34m\u001b[1mwandb\u001b[0m: \tneurons: 128\n",
      "\u001b[34m\u001b[1mwandb\u001b[0m: \tweight_init: random\n"
     ]
    },
    {
     "data": {
      "text/html": [
       "Tracking run with wandb version 0.16.4"
      ],
      "text/plain": [
       "<IPython.core.display.HTML object>"
      ]
     },
     "metadata": {},
     "output_type": "display_data"
    },
    {
     "data": {
      "text/html": [
       "Run data is saved locally in <code>M:\\Practice\\Semester-2\\Deep Learning\\Assignments\\miscelleanous\\sn\\wandb\\run-20240317_222943-jwoqelyo</code>"
      ],
      "text/plain": [
       "<IPython.core.display.HTML object>"
      ]
     },
     "metadata": {},
     "output_type": "display_data"
    },
    {
     "data": {
      "text/html": [
       "Syncing run <strong><a href='https://wandb.ai/cs23m055_assignment_1/final_version/runs/jwoqelyo' target=\"_blank\">fine-sweep-8</a></strong> to <a href='https://wandb.ai/cs23m055_assignment_1/final_version' target=\"_blank\">Weights & Biases</a> (<a href='https://wandb.me/run' target=\"_blank\">docs</a>)<br/>Sweep page: <a href='https://wandb.ai/cs23m055_assignment_1/final_version/sweeps/iyvpzx74' target=\"_blank\">https://wandb.ai/cs23m055_assignment_1/final_version/sweeps/iyvpzx74</a>"
      ],
      "text/plain": [
       "<IPython.core.display.HTML object>"
      ]
     },
     "metadata": {},
     "output_type": "display_data"
    },
    {
     "data": {
      "text/html": [
       " View project at <a href='https://wandb.ai/cs23m055_assignment_1/final_version' target=\"_blank\">https://wandb.ai/cs23m055_assignment_1/final_version</a>"
      ],
      "text/plain": [
       "<IPython.core.display.HTML object>"
      ]
     },
     "metadata": {},
     "output_type": "display_data"
    },
    {
     "data": {
      "text/html": [
       " View sweep at <a href='https://wandb.ai/cs23m055_assignment_1/final_version/sweeps/iyvpzx74' target=\"_blank\">https://wandb.ai/cs23m055_assignment_1/final_version/sweeps/iyvpzx74</a>"
      ],
      "text/plain": [
       "<IPython.core.display.HTML object>"
      ]
     },
     "metadata": {},
     "output_type": "display_data"
    },
    {
     "data": {
      "text/html": [
       " View run at <a href='https://wandb.ai/cs23m055_assignment_1/final_version/runs/jwoqelyo' target=\"_blank\">https://wandb.ai/cs23m055_assignment_1/final_version/runs/jwoqelyo</a>"
      ],
      "text/plain": [
       "<IPython.core.display.HTML object>"
      ]
     },
     "metadata": {},
     "output_type": "display_data"
    }
   ],
   "source": [
    "# Calling functions from here\n",
    "# import argparse\n",
    "# parser = argparse.ArgumentParser(description=\"Training on Fashion-Mnist/ Mnist dataset\")\n",
    "\n",
    "# parser.add_argument('-wp','--wandb_project', default=\"final_version\", required=False,metavar=\"\", type=str, help='Project name used to track experiments in Weights & Biases dashboard')\n",
    "# parser.add_argument('-we','--wandb_entity', default=\"cs23m055\", required=False,metavar=\"\", type=str, help='Wandb Entity used to track experiments in the Weights & Biases dashboard.')\n",
    "# parser.add_argument('-d','--dataset', default=\"fashion_mnist\", required=False,metavar=\"\", type=str,choices= [\"mnist\", \"fashion_mnist\"], help=' choices: [\"mnist\", \"fashion_mnist\"]')\n",
    "# parser.add_argument('-e','--epochs', default=10, required=False,metavar=\"\", type=int, help='Number of epochs to train neural network')\n",
    "# parser.add_argument('-b','--batch_size', default=16, required=False,metavar=\"\", type=int, help='Batch size used to train neural network')\n",
    "# parser.add_argument('-l','--loss', default=\"cross_entropy\", required=False,metavar=\"\", type=str,choices= [\"mean_squared_error\", \"cross_entropy\"], help='choices: [\"mean_squared_error\", \"cross_entropy\"]')\n",
    "# parser.add_argument('-o','--optimizer', default=\"adam\", required=False,metavar=\"\", type=str,choices= [\"sgd\", \"momentum\", \"nag\", \"rmsprop\", \"adam\", \"nadam\"], help='[\"sgd\", \"momentum\", \"nag\", \"rmsprop\", \"adam\", \"nadam\"]')\n",
    "# parser.add_argument('-lr','--learning_rate', default=0.0001, required=False,metavar=\"\", type=float, help='Learning rate used to optimize model parameters')\n",
    "# parser.add_argument('-m','--momentum', default=0.9, required=False,metavar=\"\", type=int, help='Momentum used by momentum and nag optimizers')\n",
    "# parser.add_argument('-beta','--beta', default=0.9, required=False,metavar=\"\", type=int, help='Beta used by rmsprop optimizer')\n",
    "# parser.add_argument('-beta1','--beta1', default=0.9, required=False,metavar=\"\", type=int, help='Beta1 used by adam and nadam optimizers')\n",
    "# parser.add_argument('-beta2','--beta2', default=0.99, required=False,metavar=\"\", type=int, help='Beta2 used by adam and nadam optimizers')\n",
    "# parser.add_argument('-eps','--epsilon', default=0.00001, required=False,metavar=\"\", type=int, help='Epsilon used by optimizers')\n",
    "# parser.add_argument('-w_d','--weight_decay', default=.0, required=False,metavar=\"\", type=int, help='Weight decay used by optimizers')\n",
    "# parser.add_argument('-w_i','--weight_init', default=\"xavier\", required=False,metavar=\"\", type=str,choices= [\"random\", \"xavier\"], help='choices= [\"random\", \"xavier\"]')\n",
    "# parser.add_argument('-nhl','--num_layers', default=3, required=False,metavar=\"\", type=int, help='Number of hidden layers used in feedforward neural network')\n",
    "# parser.add_argument('-sz','--hidden_size', default=128, required=False,metavar=\"\", type=int, help='Number of hidden neurons in feedforward layer')\n",
    "# parser.add_argument('-a','--activation', default=\"ReLU\", required=False,metavar=\"\", type=str,choices= [\"identity\", \"sigmoid\", \"tanh\", \"ReLU\"], help='choices= [\"identity\", \"sigmoid\", \"tanh\", \"ReLU\"]')\n",
    "# args = parser.parse_args()\n",
    "# _,_,train_x,train_y,validation_x,validation_y,x_test,y_test=collect_data(args.dataset)\n",
    "# wandb.login(key = \"67fcf10073b0d1bfeee44a1e4bd6f3eb5b674f8e\")\n",
    "# wandb.init(project=args.wandb_project,entity=args.wandb_entity)\n",
    "\n",
    "# weights,biases,epoch_train_loss,epoch_val_loss,training_accuracy,acc_val=learning_params(args.num_layers,args.hidden_size,train_x,train_y,validation_x,validation_y,args.optimizer,args.learning_rate,args.epochs,args.batch_size,args.activation,args.weight_init,args.weight_decay,args.momentum ,args.beta ,args.beta1 ,args.beta2 ,args.epsilon,args.loss)\n",
    "\n",
    "# for i in range(len(epoch_train_loss)):\n",
    "#     wandb.log({\"accuracy\":training_accuracy[i]})\n",
    "#     wandb.log({\"val_acc\":acc_val[i]})\n",
    "#     wandb.log({\"epoch\": (i+1)})\n",
    "#     wandb.log({\"loss\":epoch_train_loss[i]})\n",
    "#     wandb.log({\"val_loss\":epoch_val_loss[i]})\n",
    "# wandb.log({\"validation_accuracy\":acc_val[-1]})\n",
    "# layers = args.num_layers+1\n",
    "# full_output_test,_,_=FeedForwardNetwork(weights,biases,layers,x_test,args.activation)\n",
    "# predicted_y=np.argmax(full_output_test,axis=0)\n",
    "# predicted_y = update_type(predicted_y)\n",
    "# acc_test = accuracy_calculation(y_test, predicted_y)\n",
    "# wandb.log({\"test_accuracy\":acc_test})\n",
    "# wandb.run.name = 'hl_'+str(args.num_layers)+\"_bs_\"+str(args.batch_size)+\"_ac_\"+str(args.activation)\n",
    "# wandb.run.save(\"end\")\n",
    "# wandb.run.finish()\n",
    "\n",
    "def main():\n",
    "    # plot_images()\n",
    "    _,_,train_x,train_y,validation_x,validation_y,test_data,test_label=collect_data(\"mnist\")\n",
    "    print(\"collected\")\n",
    "    run_sweeps(train_x,train_y,validation_x,validation_y)\n",
    "    print(\"run complete\")\n",
    "    # acc_test=log_confusion_mat()\n",
    "    # print(acc_test)\n",
    "if __name__==\"__main__\":\n",
    "    main()\n",
    "    "
   ]
  },
  {
   "cell_type": "code",
   "execution_count": null,
   "metadata": {},
   "outputs": [],
   "source": []
  },
  {
   "cell_type": "code",
   "execution_count": null,
   "metadata": {},
   "outputs": [],
   "source": []
  }
 ],
 "metadata": {
  "colab": {
   "provenance": []
  },
  "kernelspec": {
   "display_name": "Python 3 (ipykernel)",
   "language": "python",
   "name": "python3"
  },
  "language_info": {
   "codemirror_mode": {
    "name": "ipython",
    "version": 3
   },
   "file_extension": ".py",
   "mimetype": "text/x-python",
   "name": "python",
   "nbconvert_exporter": "python",
   "pygments_lexer": "ipython3",
   "version": "3.12.0"
  },
  "vscode": {
   "interpreter": {
    "hash": "f029a96fcde925865f209d04c046aca0c9550919b0e4a2b27b2863cc9a9c3f3e"
   }
  }
 },
 "nbformat": 4,
 "nbformat_minor": 4
}
