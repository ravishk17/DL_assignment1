{
 "cells": [
  {
   "cell_type": "code",
   "execution_count": 6,
   "id": "163a0c78-957d-406f-a5be-9c7671ff49ab",
   "metadata": {},
   "outputs": [
    {
     "name": "stdout",
     "output_type": "stream",
     "text": [
      "[0.07692991 0.07064153 0.09304892 0.08549618 0.0844912  0.13241719\n",
      " 0.08926497 0.08903162 0.13012444 0.14855404]\n",
      "1.0\n"
     ]
    }
   ],
   "source": [
    "from keras.datasets import fashion_mnist\n",
    "import math\n",
    "import numpy as np\n",
    "\n",
    "def softMax_q2(aL):\n",
    "    den=0\n",
    "    aL = np.clip(aL,-499,499)\n",
    "    for i in range(10):\n",
    "        den+=np.exp(aL[0][i])\n",
    "    y = np.zeros(10)\n",
    "    for i in range(10):\n",
    "        y[i] = np.exp(aL[0][i])/den\n",
    "    return y\n",
    "    \n",
    "def forward_pass(X,hiddenLayers,bias,weightMatrix):\n",
    "    probability=[]\n",
    "    for x in X:\n",
    "        input = x.reshape(1,-1).T\n",
    "        for i in range(1,hiddenLayers+1):\n",
    "            a_i = bias[i].T + weightMatrix[i]@input\n",
    "            h_i = np.tanh(a_i)\n",
    "            input=h_i\n",
    "        a_l = bias[hiddenLayers+1].T+weightMatrix[hiddenLayers+1]@h_i\n",
    "        out = softMax_q2(a_l.T)\n",
    "        probability.append(out)\n",
    "    return probability\n",
    "\n",
    "# 2nd question\n",
    "def q2():\n",
    "    neuronPerHiddenLayer = [16,16,16]\n",
    "    (train_images, train_labels), (test_images, test_labels) = fashion_mnist.load_data()\n",
    "    inputLayerNeuron = train_images.shape[1]*train_images.shape[2]\n",
    "    outputLayerNeuron = 10\n",
    "    train_images = train_images/255.0\n",
    "    neuronPerLayer = [inputLayerNeuron] + neuronPerHiddenLayer + [outputLayerNeuron]\n",
    "    weightMatrix = [0]\n",
    "    bias = [0]\n",
    "    for j in range(1,len(neuronPerLayer)):\n",
    "        limit = np.sqrt(2/float(neuronPerLayer[j] + neuronPerLayer[j-1]))\n",
    "        weightMatrix.append(np.random.normal(0.0,limit,size = (neuronPerLayer[j],neuronPerLayer[j-1])))\n",
    "        bias.append(np.zeros((1,neuronPerLayer[j])))\n",
    "    hiddenLayers = len(neuronPerHiddenLayer)\n",
    "    \n",
    "    answers = forward_pass(train_images,hiddenLayers,bias,weightMatrix)\n",
    "    np.set_printoptions(suppress=True)\n",
    "    print(answers[0])\n",
    "    # print(sum(answers[0]))\n",
    "q2()"
   ]
  },
  {
   "cell_type": "code",
   "execution_count": null,
   "id": "8cdb7c0e-7440-4e9d-8b35-550cc59d884f",
   "metadata": {},
   "outputs": [],
   "source": []
  }
 ],
 "metadata": {
  "kernelspec": {
   "display_name": "Python 3 (ipykernel)",
   "language": "python",
   "name": "python3"
  },
  "language_info": {
   "codemirror_mode": {
    "name": "ipython",
    "version": 3
   },
   "file_extension": ".py",
   "mimetype": "text/x-python",
   "name": "python",
   "nbconvert_exporter": "python",
   "pygments_lexer": "ipython3",
   "version": "3.12.0"
  }
 },
 "nbformat": 4,
 "nbformat_minor": 5
}
