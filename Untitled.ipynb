{
 "cells": [
  {
   "cell_type": "code",
   "execution_count": 34,
   "id": "f83bf474-4478-40f7-8aad-676f70d9fc73",
   "metadata": {},
   "outputs": [
    {
     "name": "stdout",
     "output_type": "stream",
     "text": [
      "Requirement already satisfied: wandb in c:\\users\\ravis\\appdata\\local\\programs\\python\\python312\\lib\\site-packages (0.16.4)\n",
      "Requirement already satisfied: Click!=8.0.0,>=7.1 in c:\\users\\ravis\\appdata\\local\\programs\\python\\python312\\lib\\site-packages (from wandb) (8.1.7)\n",
      "Requirement already satisfied: GitPython!=3.1.29,>=1.0.0 in c:\\users\\ravis\\appdata\\local\\programs\\python\\python312\\lib\\site-packages (from wandb) (3.1.42)\n",
      "Requirement already satisfied: requests<3,>=2.0.0 in c:\\users\\ravis\\appdata\\local\\programs\\python\\python312\\lib\\site-packages (from wandb) (2.31.0)\n",
      "Requirement already satisfied: psutil>=5.0.0 in c:\\users\\ravis\\appdata\\local\\programs\\python\\python312\\lib\\site-packages (from wandb) (5.9.6)\n",
      "Requirement already satisfied: sentry-sdk>=1.0.0 in c:\\users\\ravis\\appdata\\local\\programs\\python\\python312\\lib\\site-packages (from wandb) (1.41.0)\n",
      "Requirement already satisfied: docker-pycreds>=0.4.0 in c:\\users\\ravis\\appdata\\local\\programs\\python\\python312\\lib\\site-packages (from wandb) (0.4.0)\n",
      "Requirement already satisfied: PyYAML in c:\\users\\ravis\\appdata\\local\\programs\\python\\python312\\lib\\site-packages (from wandb) (6.0.1)\n",
      "Requirement already satisfied: setproctitle in c:\\users\\ravis\\appdata\\local\\programs\\python\\python312\\lib\\site-packages (from wandb) (1.3.3)\n",
      "Requirement already satisfied: setuptools in c:\\users\\ravis\\appdata\\local\\programs\\python\\python312\\lib\\site-packages (from wandb) (69.1.1)\n",
      "Requirement already satisfied: appdirs>=1.4.3 in c:\\users\\ravis\\appdata\\local\\programs\\python\\python312\\lib\\site-packages (from wandb) (1.4.4)\n",
      "Requirement already satisfied: protobuf!=4.21.0,<5,>=3.19.0 in c:\\users\\ravis\\appdata\\local\\programs\\python\\python312\\lib\\site-packages (from wandb) (4.25.3)\n",
      "Requirement already satisfied: colorama in c:\\users\\ravis\\appdata\\local\\programs\\python\\python312\\lib\\site-packages (from Click!=8.0.0,>=7.1->wandb) (0.4.6)\n",
      "Requirement already satisfied: six>=1.4.0 in c:\\users\\ravis\\appdata\\local\\programs\\python\\python312\\lib\\site-packages (from docker-pycreds>=0.4.0->wandb) (1.16.0)\n",
      "Requirement already satisfied: gitdb<5,>=4.0.1 in c:\\users\\ravis\\appdata\\local\\programs\\python\\python312\\lib\\site-packages (from GitPython!=3.1.29,>=1.0.0->wandb) (4.0.11)\n",
      "Requirement already satisfied: charset-normalizer<4,>=2 in c:\\users\\ravis\\appdata\\local\\programs\\python\\python312\\lib\\site-packages (from requests<3,>=2.0.0->wandb) (3.3.0)\n",
      "Requirement already satisfied: idna<4,>=2.5 in c:\\users\\ravis\\appdata\\local\\programs\\python\\python312\\lib\\site-packages (from requests<3,>=2.0.0->wandb) (3.4)\n",
      "Requirement already satisfied: urllib3<3,>=1.21.1 in c:\\users\\ravis\\appdata\\local\\programs\\python\\python312\\lib\\site-packages (from requests<3,>=2.0.0->wandb) (2.0.6)\n",
      "Requirement already satisfied: certifi>=2017.4.17 in c:\\users\\ravis\\appdata\\local\\programs\\python\\python312\\lib\\site-packages (from requests<3,>=2.0.0->wandb) (2023.7.22)\n",
      "Requirement already satisfied: smmap<6,>=3.0.1 in c:\\users\\ravis\\appdata\\local\\programs\\python\\python312\\lib\\site-packages (from gitdb<5,>=4.0.1->GitPython!=3.1.29,>=1.0.0->wandb) (5.0.1)\n"
     ]
    }
   ],
   "source": [
    "! pip install wandb"
   ]
  },
  {
   "cell_type": "code",
   "execution_count": 35,
   "id": "36bd6048-15c3-4718-af5f-4070e80f970f",
   "metadata": {},
   "outputs": [],
   "source": [
    "from sklearn.model_selection import train_test_split\n",
    "import wandb\n",
    "from keras.datasets import fashion_mnist,mnist\n",
    "import pandas as pd\n",
    "import numpy as np\n",
    "import matplotlib.pyplot as plt\n",
    "from sklearn import metrics"
   ]
  },
  {
   "cell_type": "code",
   "execution_count": 37,
   "id": "076f68f1-74b0-422b-8c34-5c2c071b3842",
   "metadata": {},
   "outputs": [],
   "source": [
    "# Question 1 - Plot one image from each class of fashion-mnist dataset\n",
    "def plot_images():\n",
    "    wandb.login(key = \"67fcf10073b0d1bfeee44a1e4bd6f3eb5b674f8e\")\n",
    "    # start a new wandb run to track this script\n",
    "    wandb.init(project=\"test-assignment\",entity=\"cs23m055\")\n",
    "    # simulate training\n",
    "    # x_train is a (60000,28,28) matrix consisting image pixels for training\n",
    "    # y_train is a (60000,1) matrix consisting of labels\n",
    "    # x_test is a (10000,28,28) matrix consisting image pixels for testing\n",
    "    # y_test is a (10000,1) matrix consisting of labels for testing\n",
    "    (x_train, y_train), (x_test, y_test) =fashion_mnist.load_data()\n",
    "    labels=set()\n",
    "    class_names = ['T-shirt/top', 'Trouser', 'Pullover', 'Dress', 'Coat','Sandal', 'Shirt', 'Sneaker', 'Bag', 'Ankle boot']\n",
    "    plt.figure(figsize=(10,10))\n",
    "    cnt = 0\n",
    "    for i in range(len(x_train)):\n",
    "        if(cnt==10):\n",
    "            break\n",
    "        if(y_train[i] not in labels):\n",
    "            cnt+=1\n",
    "            plt.subplot(5,2,cnt)\n",
    "            plt.xticks([])\n",
    "            plt.yticks([])\n",
    "            plt.grid(False)\n",
    "            plt.imshow(x_train[i],cmap=\"gray\")\n",
    "            plt.xlabel(class_names[y_train[i]])\n",
    "    plt.show()\n",
    "    wandb.Image(plt)\n",
    "    # wandb.log({\"plot\":plt})\n",
    "    wandb.run.name = \"Sample_Images\"\n",
    "    wandb.run.save()\n",
    "    wandb.run.finish()\n",
    "    # finish the wandb run, necessary in notebooks\n",
    "    wandb.finish()"
   ]
  },
  {
   "cell_type": "code",
   "execution_count": 39,
   "id": "d68a39fd-c9d1-400b-9089-87660ad6caf1",
   "metadata": {},
   "outputs": [],
   "source": [
    "# Preprocessing of data\n",
    "def load_dataset(dataset=\"fashion_mnist\"):\n",
    "    if(dataset==\"fashion_mnist\"):\n",
    "        (x_train, y_train), (x_test, y_test) = fashion_mnist.load_data()\n",
    "    else:\n",
    "        (x_train, y_train), (x_test, y_test) = mnist.load_data()\n",
    "    return x_train,y_train,x_test, y_test\n",
    "\n",
    "def normalize(x_train,x_test):\n",
    "    x_train = x_train/255.0\n",
    "    x_test = x_test/255.0\n",
    "    return x_train,x_test\n",
    "    \n",
    "def standardised_data(x_train,y_train,train_x,train_y,val_x,val_y,x_test, y_test):\n",
    "    val_x=np.transpose(val_x)\n",
    "    val_y=np.transpose(val_y)\n",
    "    \n",
    "    train_x=np.transpose(train_x)\n",
    "    train_y=np.transpose(train_y)\n",
    "    \n",
    "    x_train=x_train.T\n",
    "    x_test=x_test.T\n",
    "    return x_train,y_train,train_x,train_y,val_x,val_y,x_test, y_test\n",
    "    \n",
    "def data_preprocess(dataset=\"fashion_mnist\"):\n",
    "    #Load Dataset\n",
    "    x_train,y_train,x_test, y_test = load_dataset(dataset)\n",
    "    \n",
    "    #Normalize dataSet\n",
    "    x_train,x_test=normalize(x_train,x_test)\n",
    "    \n",
    "    #(60000,28x28) to (60000,784)\n",
    "    num_inputs=x_train.shape[1]*x_train.shape[2]\n",
    "    num_outputs=10\n",
    "    \n",
    "    x_train=x_train.reshape(x_train.shape[0],num_inputs)\n",
    "    x_test=x_test.reshape(x_test.shape[0],num_inputs)\n",
    "\n",
    "    #10% validation, 90%training\n",
    "    train_x,val_x,train_y,val_y=train_test_split(x_train,y_train,test_size=0.1,random_state=55)\n",
    "    \n",
    "    return standardised_data(x_train,y_train,train_x,train_y,val_x,val_y,x_test, y_test)\n",
    "\n",
    "def one_hot_encoding(y):\n",
    "    exp_y=np.zeros((10,y.shape[0]))\n",
    "    for i in range(0,y.shape[0]):\n",
    "        exp_y[y[i]][i]=1\n",
    "    return exp_y\n",
    "    "
   ]
  },
  {
   "cell_type": "code",
   "execution_count": 41,
   "id": "bf4f7c9a-03be-44d3-9d7f-4eaab162a35c",
   "metadata": {},
   "outputs": [],
   "source": [
    "# Activation functions\n",
    "def Relu_derivative(x):\n",
    "    return 1*(x>0) \n",
    "\n",
    "def Relu(x):\n",
    "    return np.maximum(0,x)\n",
    "\n",
    "def sigmoid(x):\n",
    "    return 1.0 / (1.0 + np.exp(-np.clip(x, -500, 500)))\n",
    "\n",
    "def sigmoid_derivative(x):\n",
    "    s = sigmoid(x)\n",
    "    return np.multiply(s, np.subtract(1, s))\n",
    "\n",
    "def softmax(x):\n",
    "    x=x-np.max(x)\n",
    "    return np.exp(x) / np.sum(np.exp(x), axis=0)\n",
    "\n",
    "def tanh(x):\n",
    "    return np.tanh(x)\n",
    "\n",
    "def tanh_derivative(x):\n",
    "    return (1 - (np.tanh(x)**2))\n",
    "    \n",
    "def identity(x):\n",
    "    return x"
   ]
  },
  {
   "cell_type": "code",
   "execution_count": 43,
   "id": "6057a32e-f840-47c2-b6ff-9990c0f2484c",
   "metadata": {},
   "outputs": [],
   "source": [
    "# Parameters initialization\n",
    "def get_weights(method,row,col):\n",
    "    if(method=='random'):\n",
    "        return (np.random.randn(row,col))*0.01\n",
    "    if(method=='xavier'):\n",
    "        return (np.random.randn(row,col)*np.sqrt(2/(row+col)))\n",
    "        \n",
    "def initialize_params(hidden_layers,neurons,method):   \n",
    "    L=hidden_layers+1 \n",
    "    weights=[0]*(hidden_layers+2)\n",
    "    biases=[0]*(hidden_layers+2)\n",
    "    previous_updates_W=[0]*(hidden_layers+2)\n",
    "    previous_updates_B=[0]*(hidden_layers+2)\n",
    "    np.random.seed(55)\n",
    "    for i in range(1,hidden_layers+2):\n",
    "        weights[i]=get_weights(method,neurons[i],neurons[i-1])\n",
    "        biases[i]=(np.zeros((neurons[i],1)))\n",
    "        previous_updates_W[i]=np.zeros((neurons[i],neurons[i-1]))\n",
    "        previous_updates_B[i]=np.zeros((neurons[i],1))\n",
    "\n",
    "    previous_updates_W=np.array(previous_updates_W,dtype=object)\n",
    "    previous_updates_B=np.array(previous_updates_B,dtype=object)\n",
    "    \n",
    "    weights=np.array(weights,dtype=object)\n",
    "    biases=np.array(biases,dtype=object)\n",
    "    \n",
    "    return weights,biases,previous_updates_W,previous_updates_B"
   ]
  },
  {
   "cell_type": "code",
   "execution_count": 44,
   "id": "e14a459f-7b20-429d-adb0-6d03bf7e8ea7",
   "metadata": {},
   "outputs": [],
   "source": [
    "# Feed forward propagation\n",
    "def post_activation(activation,a_i):\n",
    "    if(activation=='ReLU'):\n",
    "        return (Relu(a_i))\n",
    "    if(activation=='sigmoid'):\n",
    "        return (sigmoid(a_i))\n",
    "    if(activation=='tanh'):\n",
    "        return (tanh(a_i))\n",
    "    if(activation=='identity'):\n",
    "        return (identity(a_i))\n",
    "\n",
    "def FeedForwardNetwork(weights,biases,L,data,activation):\n",
    "    #Returns the array containing the output probablity for each class the data can belong\n",
    "    a=[0]*(L+1)\n",
    "    h=[0]*(L+1)\n",
    "    h[0]=data\n",
    "    for i in range(1,L+1):\n",
    "        #weight and bias matrix for hidden-layer i\n",
    "        weight=weights[i]\n",
    "        bias=biases[i]\n",
    "        \n",
    "        #pre activation - a_i = b_i + w*h_i-1\n",
    "        a[i]=(bias + weight@h[i-1])\n",
    "        \n",
    "        # Output layer calculation and then return\n",
    "        if(i==L):\n",
    "            h[i]=softmax(a[i])\n",
    "            return h[L],h,a\n",
    "            \n",
    "        #h_i calculation\n",
    "        h[i]=post_activation(activation,a[i])\n"
   ]
  },
  {
   "cell_type": "code",
   "execution_count": 45,
   "id": "06fa82ba-261d-4112-9271-fa0404006092",
   "metadata": {},
   "outputs": [],
   "source": [
    "# Backpropagation\n",
    "def grad_multiplication(activation,level,gradients_H,A):\n",
    "    if(activation=='sigmoid'):\n",
    "        return np.multiply(gradients_H[level-1],sigmoid_derivative(A[level-1]))\n",
    "    if(activation=='ReLU'):\n",
    "        return np.multiply(gradients_H[level-1],Relu_derivative(A[level-1]))\n",
    "    if(activation=='tanh'):\n",
    "        return np.multiply(gradients_H[level-1],tanh_derivative(A[level-1]))\n",
    "    if(activation=='identity'):\n",
    "        return gradients_H[k-1]\n",
    "        \n",
    "def BackPropogation(weights,L,H,A,exp_Y,y_hat,activation,loss=\"cross_entropy\"):\n",
    "    gradients_H=[0] * (L+1)\n",
    "    gradients_A=[0] * (L+1)\n",
    "    gradients_W=[0] * (L+1)\n",
    "    gradients_B=[0] * (L+1)\n",
    "    \n",
    "    # Gradient-Output Layer\n",
    "    if loss==\"cross_entropy\":\n",
    "        gradients_A[L]=-(exp_Y-y_hat)\n",
    "    if loss==\"mean_squared_error\":\n",
    "        gradients_A[L]=-(exp_Y-y_hat) * softmax(A[L]) * (1-softmax(A[L]))\n",
    "        \n",
    "    for k in range(L,0,-1):\n",
    "        #gradients - parameters\n",
    "        gradients_W[k]=gradients_A[k]@np.transpose(H[k-1])\n",
    "        gradients_B[k]=np.sum(gradients_A[k], axis=1,keepdims=True)\n",
    "        #compute - hidden layers\n",
    "        gradients_H[k-1]=np.matmul(np.transpose(weights[k]),gradients_A[k])\n",
    "        if(k>1):\n",
    "            gradients_A[k-1] = grad_multiplication(activation,k,gradients_H,A)\n",
    "            \n",
    "    return gradients_W,gradients_B"
   ]
  },
  {
   "cell_type": "code",
   "execution_count": 1,
   "id": "b42d402a-3a4b-4971-8c14-4215024f71cf",
   "metadata": {},
   "outputs": [],
   "source": [
    "# Question1"
   ]
  },
  {
   "cell_type": "code",
   "execution_count": 2,
   "id": "929c9d84-8d95-428e-8f30-d546bec5b46e",
   "metadata": {},
   "outputs": [],
   "source": [
    "import matplotlib.pyplot as plt\n",
    "import matplotlib.image as mpimg\n",
    "from keras.datasets import fashion_mnist\n",
    "import math\n",
    "import numpy as np"
   ]
  },
  {
   "cell_type": "code",
   "execution_count": 46,
   "id": "df4f9250-e1e5-4174-89f1-2e50c5bded71",
   "metadata": {},
   "outputs": [
    {
     "name": "stdout",
     "output_type": "stream",
     "text": [
      "(60000, 28, 28)\n"
     ]
    }
   ],
   "source": [
    "(train_images, train_labels), (test_images, test_labels) = fashion_mnist.load_data()\n",
    "print(train_images.shape)"
   ]
  },
  {
   "cell_type": "code",
   "execution_count": 47,
   "id": "6d05c719-a018-45b3-8294-8a8d38d010f2",
   "metadata": {},
   "outputs": [
    {
     "data": {
      "image/png": "[encoded data removed]",
      "text/plain": [
       "<Figure size 1000x1000 with 10 Axes>"
      ]
     },
     "metadata": {},
     "output_type": "display_data"
    }
   ],
   "source": [
    "def plot_MNist(train_images,train_labels):\n",
    "    class_names = ['T-shirt/top', 'Trouser', 'Pullover', 'Dress', 'Coat','Sandal', 'Shirt', 'Sneaker', 'Bag', 'Ankle boot']\n",
    "    class_set = set(class_names)\n",
    "    plt.figure(figsize=(10, 10))\n",
    "    cnt=1\n",
    "    for i in range(len(train_images)):\n",
    "        if(len(class_set)==0):\n",
    "            break\n",
    "        if(class_names[train_labels[i]] in class_set):\n",
    "            plt.subplot(4,3,cnt)\n",
    "            plt.xticks([])\n",
    "            plt.yticks([])\n",
    "            plt.grid(False)\n",
    "            plt.imshow(train_images[i],cmap=plt.cm.binary)\n",
    "            plt.xlabel(class_names[train_labels[i]])\n",
    "            class_set.remove(class_names[train_labels[i]])\n",
    "            cnt+=1\n",
    "    plt.show()\n",
    "\n",
    "plot_MNist(train_images,train_labels)\n",
    "# plot_MNist(test_images,test_labels)"
   ]
  },
  {
   "cell_type": "code",
   "execution_count": 5,
   "id": "4722f864-71ca-4ca5-a169-5b6ff63c619e",
   "metadata": {},
   "outputs": [],
   "source": [
    "# Question 2 - 3"
   ]
  },
  {
   "cell_type": "code",
   "execution_count": 30,
   "id": "f5ce83d0-e17c-4001-97ad-e129747cd65e",
   "metadata": {},
   "outputs": [],
   "source": [
    "class FeedForwardNeuralNetwork:\n",
    "    def __init__(self, hiddenLayers, neuronPerHiddenLayer, neuronOutputLayer, neuronsInputLayer, activation_function=None, loss_function = None, loss_last_derivative = None,g = None, g_derivative = None, initialization = None,epochs = 50,eta = 0.2):\n",
    "        self.hiddenLayers = hiddenLayers # 2\n",
    "        #[inputNeurons, 10,12, outputNeurons](list[i] - no. of neurons in ith hidden layer, 0-indexing)\n",
    "        self.neuronPerHiddenLayer = [neuronsInputLayer] + neuronPerHiddenLayer + [neuronOutputLayer]\n",
    "        # print(len(self.neuronPerHiddenLayer))\n",
    "        self.activation_function = activation_function\n",
    "        self.loss_function = loss_function\n",
    "        self.last_derivative = loss_last_derivative\n",
    "        self.initialization = initialization\n",
    "        self.epochs = epochs\n",
    "        self.eta = eta\n",
    "        self.g = g\n",
    "        self.g_derivative = g_derivative\n",
    "        self.neuronOutputLayer = neuronOutputLayer # 10(int)\n",
    "        self.neuronsInputLayer = neuronsInputLayer\n",
    "        self.weightMatrix = [0]\n",
    "        self.dw = {}\n",
    "        self.bias = [0]\n",
    "        self.db = {}\n",
    "        self.a={}\n",
    "        self.da={}\n",
    "        self.h={}\n",
    "        self.dh={}\n",
    "        np.random.seed(55)\n",
    "        np.random.RandomState(55)\n",
    "        for j in range(1,len(self.neuronPerHiddenLayer)):\n",
    "            if(self.initialization == \"Random\"):\n",
    "                self.weightMatrix.append(np.random.randn(self.neuronPerHiddenLayer[j],self.neuronPerHiddenLayer[j-1]))\n",
    "            elif(self.initialization == \"Xavier-Normal\"):\n",
    "                limit = np.sqrt(2/float(self.neuronPerHiddenLayer[j] + self.neuronPerHiddenLayer[j-1]))\n",
    "                self.weightMatrix.append(np.random.normal(0.0,limit,size=(self.neuronPerHiddenLayer[j],self.neuronPerHiddenLayer[j-1])))\n",
    "            else:\n",
    "                limit = np.sqrt(6/float(self.neuronPerHiddenLayer[j] + self.neuronPerHiddenLayer[j-1]))\n",
    "                self.weightMatrix.append(np.random.uniform(low=-limit, high=limit, size=(self.neuronPerHiddenLayer[j],self.neuronPerHiddenLayer[j-1])))\n",
    "            # use bias Transpose for vector addition\n",
    "            self.bias.append(np.zeros((1,self.neuronPerHiddenLayer[j])))\n",
    "            \n",
    "\n",
    "        \n",
    "        \n",
    "    def softMax(self,aL):\n",
    "        den=0\n",
    "        aL = np.clip(aL,-500,500)\n",
    "        for i in range(self.neuronOutputLayer):\n",
    "            den+=np.exp(aL[0][i])\n",
    "        y = np.zeros(self.neuronOutputLayer)\n",
    "        for i in range(self.neuronOutputLayer):\n",
    "            y[i] = np.exp(aL[0][i])/den\n",
    "        return y\n",
    "\n",
    "    def LossFunction(self,outputArray,trueClass):\n",
    "        # trueClass is number from 0 to 9 inclusive for the assignment\n",
    "        loss = -math.log2(outputArray[trueClass])\n",
    "        return loss\n",
    "\n",
    "    def activation(self,a_i):\n",
    "        return a_i * (a_i > 0)\n",
    "\n",
    "    # simple forward pass for 2nd question\n",
    "    def forward_pass(self,X,Y):\n",
    "        probability=[]\n",
    "        for x,y in zip(X,Y):\n",
    "            input = x.reshape(1,-1).T\n",
    "            for i in range(1,self.hiddenLayers+1):\n",
    "                a_i = self.bias[i].T + self.weightMatrix[i]@input\n",
    "                h_i = self.activation(a_i)\n",
    "                input=h_i\n",
    "            a_l = self.bias[self.hiddenLayers+1].T+self.weightMatrix[self.hiddenLayers+1]@h_i\n",
    "            out = self.softMax(a_l.T)\n",
    "            probability.append(out)\n",
    "        return probability\n",
    "\n",
    "\n",
    "    # Specific for questions from 3 onwards\n",
    "    def forward_propagation(self, x, activation_function):\n",
    "        self.h = {}\n",
    "        self.a = {}\n",
    "        self.h[0] = x.reshape(1,-1).T\n",
    "        for i in range(1,self.hiddenLayers+1):\n",
    "            self.a[i] = self.weightMatrix[i]@self.h[i-1] + self.bias[i].T\n",
    "            self.h[i] = self.activation_function(self.a[i])\n",
    "        j=self.hiddenLayers+1\n",
    "        self.a[j] = self.weightMatrix[j]@self.h[j-1] + self.bias[j].T\n",
    "        output = self.softMax(self.a[j].T)\n",
    "        return output\n",
    "\n",
    "    # def backward_propagation(self,X,Y,dw,db):\n",
    "    #     self.da[self.hiddenLayers+1] = self.loss_last_derivative(self.h[self.hiddenLayers+1],Y,self.g_derivative(self.a[self.hiddenLayers+1]))\n",
    "    #     for i in range(self.hiddenLayers,-1,-1):\n",
    "    #         dw[i+1] = self.h[i].T@self.da[i+1]\n",
    "    #         db[i+1] = self.da[i+1]\n",
    "    #         if(i!=0):\n",
    "    #             self.dh[i] = self.da[i+1]@self.weightMatrix[i+1].T\n",
    "    #             self.da[i] = np.multiply(self.g_derivative(self.a[i]),self.dh[i])\n",
    "    #     return dw,db\n",
    "\n",
    "    def crossEntropy_derivative(self,k,Y_true,Y_predicted):\n",
    "        temp=[]\n",
    "        for i in range(self.neuronsPerLayer[k]):\n",
    "            if(Y_true[i]==1 or Y_true==1.0):\n",
    "                temp.append(-1-Y_predicted[i])\n",
    "            else:\n",
    "                temp.append(-Y_predicted[i])\n",
    "        temp = np.array(temp).T\n",
    "        return temp\n",
    "        \n",
    "    def tanh_activation(self,X):\n",
    "        return np.tanh(X)\n",
    "        \n",
    "    def tanh_derivative(self,X):\n",
    "        return 1 - (np.tanh(X)**2)\n",
    "\n",
    "    def sigmoid_activation(self,X):\n",
    "        return 1.0/(1.0+np.exp(-X))\n",
    "    \n",
    "    def sigmoid_derivative(self,X):\n",
    "        val = self.sigmoid_acitvation(X)\n",
    "        return val*(1-val)\n",
    "\n",
    "    def relu_activation(self,X):\n",
    "        return X*(X>0)\n",
    "        \n",
    "    def relu_derivative(self,X):\n",
    "        X[X<=0.0] = 0.0\n",
    "        X[X>0.0] = 1.0\n",
    "        return X\n",
    "        \n",
    "    def back_propagation(self,X,Y_true,Y_predicted,dw,db):\n",
    "        for k in range(self.hiddenLayers+1,0,-1):\n",
    "            if(k==self.hiddenLayers+1):\n",
    "                self.da[k] = self.crossEntropy_derivative(k,Y_true,Y_predicted)\n",
    "            else:\n",
    "                self.dh[k] = self.weightMatrix[k+1].T @ self.da[k+1]\n",
    "                if(self.activation_function == \"tanH\"):\n",
    "                    self.g_a[k] = self.tanh_derivative(X)\n",
    "                elif(self.activation_function == \"sigmoid\"):\n",
    "                    self.g_a[k] = self.sigmoid_derivative(X)\n",
    "                else:\n",
    "                    # Relu\n",
    "                    self.g_a[k] = self.relu_derivative(X)\n",
    "                self.da[k] = self.dh[k]*self.g_a[k].T\n",
    "            dw[k] = self.da[k]@self.h[k-1]\n",
    "            db[k] = self.da[k]\n",
    "        return\n",
    "    \n",
    "    def train(self,X,Y,X_val,Y_val):\n",
    "        for epoch in range(self.epochs):\n",
    "            y_pred = []\n",
    "            count = 0\n",
    "            self.dw={}\n",
    "            self.db={}\n",
    "            for j in range(1,len(self.neuronPerHiddenLayer)):\n",
    "                self.dw[j] = np.zeros(self.neuronPerHiddenLayer[j],self.neuronPerHiddenLayer[j-1])\n",
    "                self.db[j] = np.zeros((1,self.neuronPerHiddenLayer[j]))\n",
    "            for x,y in zip(X,Y):\n",
    "                dw,db={},{}\n",
    "                count+=1\n",
    "                x = x.reshape(1,-1)\n",
    "                y_preds.append(self.forward_propagation(x,self.activation_function))\n",
    "                self.back_propagation(x,y,y_preds[-1],dw,db)\n",
    "                for level in range(1,self.hiddenLayers+2):\n",
    "                    self.dw[level]+=dw[level]\n",
    "                    self.db[level]+=db[level]\n",
    "                if(count==self.batch_size):\n",
    "                    count=0\n",
    "                    for level in range(1,self.hiddenLayers+2):\n",
    "                        self.weightMatrix[level]-=self.eta * self.dw\n",
    "                        self.bias[level]-=self.eta * self.db\n",
    "        for level in range(1,self.hiddenLayers+2):\n",
    "            self.weightMatrix[level]-=self.eta * self.dw[level]\n",
    "            self.bias[level]-=self.eta * self.db[level]\n",
    "                    \n",
    "        "
   ]
  },
  {
   "cell_type": "code",
   "execution_count": 24,
   "id": "835ea65a-1ed3-4b39-a0a9-58008d8aee65",
   "metadata": {},
   "outputs": [
    {
     "name": "stdout",
     "output_type": "stream",
     "text": [
      "[[0.62245933]\n",
      " [0.73105858]\n",
      " [0.88079708]]\n"
     ]
    }
   ],
   "source": [
    "# Activation functions amd their derivatives\n",
    "def sigmoid_activation(X):\n",
    "    return 1.0/(1.0+np.exp(-X))\n",
    "    \n",
    "def sigmoid_derivative(X):\n",
    "    val = sigmoid_activation(X)\n",
    "    return val*(1-val)\n",
    "\n",
    "def softmax_activation(X):\n",
    "    ex = np.exp(X)\n",
    "    return exponentials/np.sum(exponentials)\n",
    "    \n",
    "def softmax_derivative(X):\n",
    "    soft = softmax_activation(X)\n",
    "    return soft*(1-soft)\n",
    "\n",
    "def tanh_activation(X):\n",
    "    return np.tanh(X)\n",
    "\n",
    "def tanh_derivative(X):\n",
    "    return 1-(np.tanh(X)**2)\n",
    "\n",
    "def ReLU_activation(X):\n",
    "    return X * (X>0)\n",
    "\n",
    "def ReLU_derivative(X):\n",
    "    X[X<=0.0] = 0.0\n",
    "    X[X>0.0] = 1.0\n",
    "    return X\n",
    "    \n",
    "\n",
    "# X_col = np.array([[0.5], [1.0], [2.0]])  # This is a column vector\n",
    "# sigmoid_output_col = sigmoid_activation(X_col)\n",
    "# print(sigmoid_output_col)"
   ]
  },
  {
   "cell_type": "code",
   "execution_count": 25,
   "id": "be57b753-cc2c-4fa1-81f9-15ac70fec408",
   "metadata": {},
   "outputs": [],
   "source": [
    "# Loss Function and their derivative\n",
    "def cross_entropy_loss(Y_true, Y_hat, batch_size):\n",
    "    for p in Y_hat[0]:\n",
    "        if(np.isnan(p) or p<10e-8):\n",
    "            p=10e-8\n",
    "    loss = np.multiply(Y_hat,Y_true)\n",
    "    loss = loss[loss!=0]\n",
    "    loss = np.log(loss)\n",
    "    loss = np.mean(loss)\n",
    "    return loss\n",
    "    \n",
    "def cross_entropy_derivative(Y_hat,Y_true):\n",
    "    return -Y_true/Y_hat\n",
    "    \n",
    "def cross_entropy_last_derivative(Y_hat,Y_true,activation_derivative):\n",
    "    for prob in Y_hat[0]:\n",
    "        if(np.isnan(p) or p<10e-8):\n",
    "            p=10e-8\n",
    "    return -(Y_true-Y_hat)\n",
    "\n",
    "def sqr_loss(Y_true,Y_hat,batch_size):\n",
    "    return (1/2) * np.sum((Y_hat-Y_true)**2)/len(Y_true)\n",
    "\n",
    "def sqr_derivative(Y_hat,Y_true):\n",
    "    return (Y_hat)*(Y_hat-Y_true)/len(Y_true)\n",
    "\n",
    "def sqr_last_derivative(Y_hat,Y_true,activation_derivative):\n",
    "    for p in Y_hat[0]:\n",
    "        if(np.isnan(p) or p<10e-8):\n",
    "            p=10e-8\n",
    "    return (Y_hat-Y_true)*activation_derivative/len(Y_true)\n",
    "    "
   ]
  },
  {
   "cell_type": "code",
   "execution_count": 7,
   "id": "aaadc02d-c4ae-477a-9a9f-e4cf952458e7",
   "metadata": {},
   "outputs": [],
   "source": [
    "# 2nd question\n",
    "from sklearn.preprocessing import OneHotEncoder\n",
    "from sklearn.model_selection import train_test_split\n",
    "(train_images, train_labels), (test_images, test_labels) = fashion_mnist.load_data()\n",
    "\n",
    "train_images = train_images/255.0\n",
    "test_images = test_images/255.0\n",
    "\n",
    "train_images, validation_images, train_labels, validation_labels = train_test_split(train_images,train_labels, test_size=0.1,random_state=55)\n",
    "encoder = OneHotEncoder()\n",
    "train_labels = encoder.fit_transform(np.expand_dims(train_labels,1)).toarray()\n",
    "validation_labels = encoder.fit_transform(np.expand_dims(validation_labels,1)).toarray()\n",
    "test_labels = encoder.fit_transform(np.expand_dims(test_labels,1)).toarray()\n"
   ]
  },
  {
   "cell_type": "code",
   "execution_count": 20,
   "id": "4551c7b6-54b2-44a8-b503-6d87cdf1a372",
   "metadata": {},
   "outputs": [
    {
     "name": "stdout",
     "output_type": "stream",
     "text": [
      "[0.         0.16666667 0.16666667 0.16666667 0.16666667 0.\n",
      " 0.         0.16666667 0.         0.16666667]\n"
     ]
    }
   ],
   "source": [
    "# 2nd question\n",
    "neuronPerHiddenLayer = [100,50,16]\n",
    "hiddenLayers = len(neuronPerHiddenLayer)\n",
    "neuronOutputLayer = train_labels.shape[1]\n",
    "neuronsInputLayer = train_images.shape[1]**2\n",
    "feedForward = FeedForwardNeuralNetwork(hiddenLayers, neuronPerHiddenLayer, neuronOutputLayer, neuronsInputLayer)\n",
    "answers = feedForward.forward_pass(train_images,train_labels)\n",
    "np.set_printoptions(suppress=True)\n",
    "print(answers[0])"
   ]
  },
  {
   "cell_type": "code",
   "execution_count": 21,
   "id": "b238ed50-d087-4b4b-9d15-87eed8f708f4",
   "metadata": {},
   "outputs": [
    {
     "data": {
      "text/plain": [
       "1.0000000000000002"
      ]
     },
     "execution_count": 21,
     "metadata": {},
     "output_type": "execute_result"
    }
   ],
   "source": [
    "sum(answers[0])"
   ]
  },
  {
   "cell_type": "code",
   "execution_count": 11,
   "id": "11792ff7-c040-4501-bd87-1eb49c439671",
   "metadata": {},
   "outputs": [
    {
     "name": "stdout",
     "output_type": "stream",
     "text": [
      "(54000, 10)\n",
      "42336000\n",
      "(54000, 28, 28)\n",
      "<class 'numpy.ndarray'>\n"
     ]
    }
   ],
   "source": [
    "print(train_labels.shape)\n",
    "print(train_images.size)\n",
    "print(train_images.shape)\n",
    "print(type(train_images))"
   ]
  },
  {
   "cell_type": "code",
   "execution_count": 30,
   "id": "ace95c1e-eb10-4b32-9eb1-fa6409dc6225",
   "metadata": {},
   "outputs": [
    {
     "name": "stdout",
     "output_type": "stream",
     "text": [
      "(28, 28)\n"
     ]
    }
   ],
   "source": [
    "print(train_images[0].shape)"
   ]
  },
  {
   "cell_type": "code",
   "execution_count": 31,
   "id": "4183c827-e523-4bec-9a82-714608809635",
   "metadata": {},
   "outputs": [
    {
     "name": "stdout",
     "output_type": "stream",
     "text": [
      "54000\n"
     ]
    }
   ],
   "source": [
    "print(len(train_labels))"
   ]
  },
  {
   "cell_type": "code",
   "execution_count": 32,
   "id": "b823e50e-ccee-41cf-ba68-1d28c5f59815",
   "metadata": {},
   "outputs": [
    {
     "name": "stdout",
     "output_type": "stream",
     "text": [
      "(54000,)\n"
     ]
    }
   ],
   "source": [
    "print(train_labels.shape)"
   ]
  },
  {
   "cell_type": "code",
   "execution_count": 33,
   "id": "4b1cff7d-cc51-4375-8666-ae30c3b4ac7d",
   "metadata": {},
   "outputs": [
    {
     "name": "stdout",
     "output_type": "stream",
     "text": [
      "(10000, 28, 28)\n"
     ]
    }
   ],
   "source": [
    "print(test_images.shape)"
   ]
  },
  {
   "cell_type": "code",
   "execution_count": 34,
   "id": "b41e186b-212d-4a38-ba01-86fd44a5a1d4",
   "metadata": {},
   "outputs": [
    {
     "name": "stdout",
     "output_type": "stream",
     "text": [
      "(10000,)\n"
     ]
    }
   ],
   "source": [
    "print(test_labels.shape)"
   ]
  },
  {
   "cell_type": "code",
   "execution_count": 9,
   "id": "e29e9388-dcb2-498f-9882-852b10a9bdf7",
   "metadata": {},
   "outputs": [
    {
     "data": {
      "text/plain": [
       "array([[0., 0., 0., 0.]])"
      ]
     },
     "execution_count": 9,
     "metadata": {},
     "output_type": "execute_result"
    }
   ],
   "source": [
    "np.zeros((1,4))"
   ]
  },
  {
   "cell_type": "code",
   "execution_count": 22,
   "id": "b35f5e1d-b605-4b15-b4cb-d369215ce5e6",
   "metadata": {},
   "outputs": [],
   "source": [
    "# Question 3"
   ]
  },
  {
   "cell_type": "code",
   "execution_count": null,
   "id": "25ccbafc-e06a-4d2d-aea6-71662f1ef44b",
   "metadata": {},
   "outputs": [],
   "source": []
  }
 ],
 "metadata": {
  "kernelspec": {
   "display_name": "Python 3 (ipykernel)",
   "language": "python",
   "name": "python3"
  },
  "language_info": {
   "codemirror_mode": {
    "name": "ipython",
    "version": 3
   },
   "file_extension": ".py",
   "mimetype": "text/x-python",
   "name": "python",
   "nbconvert_exporter": "python",
   "pygments_lexer": "ipython3",
   "version": "3.12.0"
  }
 },
 "nbformat": 4,
 "nbformat_minor": 5
}
